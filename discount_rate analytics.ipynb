{
 "cells": [
  {
   "cell_type": "code",
   "execution_count": 1,
   "metadata": {},
   "outputs": [],
   "source": [
    "import pandas as pd\n",
    "import numpy as np\n",
    "import matplotlib.pyplot as plt\n",
    "import seaborn as sns\n",
    "import openpyxl\n",
    "from tqdm.auto import tqdm\n",
    "import plotly.express as px\n",
    "import ast"
   ]
  },
  {
   "cell_type": "code",
   "execution_count": null,
   "metadata": {},
   "outputs": [],
   "source": [
    "publishers = [\n",
    "    \"HarperCollins\",\n",
    "    \"Little, Brown and Company\",\n",
    "    \"Tor Books\",\n",
    "    \"Disney Hyperion Books (Disney Publishing Group)\",\n",
    "    \"Oxford World's Classics\",\n",
    "    \"Doubleday (Knopf Doubleday Publishing Group)\",\n",
    "    \"BLOOMSBURY PUBLISHING\",\n",
    "]"
   ]
  },
  {
   "cell_type": "code",
   "execution_count": 2,
   "metadata": {},
   "outputs": [],
   "source": [
    "book_data = pd.read_csv(r\"C:\\Users\\USER\\OneDrive\\桌面\\C2L2\\books_data.csv\")"
   ]
  },
  {
   "cell_type": "code",
   "execution_count": 3,
   "metadata": {},
   "outputs": [],
   "source": [
    "data_with_price_all_books = pd.read_csv(r\"data_book_price\\Best_Sellers_top100_1dep_other_info.csv\", encoding=\"latin-1\")"
   ]
  },
  {
   "cell_type": "code",
   "execution_count": 4,
   "metadata": {},
   "outputs": [
    {
     "name": "stdout",
     "output_type": "stream",
     "text": [
      "<class 'pandas.core.frame.DataFrame'>\n",
      "RangeIndex: 6831 entries, 0 to 6830\n",
      "Data columns (total 7 columns):\n",
      " #   Column           Non-Null Count  Dtype \n",
      "---  ------           --------------  ----- \n",
      " 0   all_rank_list    6768 non-null   object\n",
      " 1   format           6831 non-null   object\n",
      " 2   before_discount  6831 non-null   object\n",
      " 3   new_price        6831 non-null   object\n",
      " 4   title            6831 non-null   object\n",
      " 5   scrape_time      6831 non-null   object\n",
      " 6   other_list       6811 non-null   object\n",
      "dtypes: object(7)\n",
      "memory usage: 373.7+ KB\n"
     ]
    }
   ],
   "source": [
    "data_with_price_all_books.info()"
   ]
  },
  {
   "cell_type": "code",
   "execution_count": 5,
   "metadata": {},
   "outputs": [
    {
     "name": "stdout",
     "output_type": "stream",
     "text": [
      "<class 'pandas.core.frame.DataFrame'>\n",
      "Int64Index: 65 entries, 2098 to 124935\n",
      "Data columns (total 29 columns):\n",
      " #   Column                   Non-Null Count  Dtype  \n",
      "---  ------                   --------------  -----  \n",
      " 0   title                    65 non-null     object \n",
      " 1   ddc_sort                 22 non-null     object \n",
      " 2   ratings_average          21 non-null     float64\n",
      " 3   ebook_count_i            65 non-null     int64  \n",
      " 4   edition_count            65 non-null     int64  \n",
      " 5   key                      65 non-null     object \n",
      " 6   publisher                65 non-null     object \n",
      " 7   publish_year             65 non-null     object \n",
      " 8   type                     65 non-null     object \n",
      " 9   isbn                     65 non-null     object \n",
      " 10  author_name              65 non-null     object \n",
      " 11  ratings_count_1          21 non-null     float64\n",
      " 12  ratings_count_2          21 non-null     float64\n",
      " 13  author_alternative_name  20 non-null     object \n",
      " 14  seed                     65 non-null     object \n",
      " 15  ratings_count_4          21 non-null     float64\n",
      " 16  lcc_sort                 38 non-null     object \n",
      " 17  publish_date             65 non-null     object \n",
      " 18  number_of_pages_median   41 non-null     float64\n",
      " 19  ebook_access             65 non-null     object \n",
      " 20  subject_key              55 non-null     object \n",
      " 21  ratings_count_3          21 non-null     float64\n",
      " 22  language                 59 non-null     object \n",
      " 23  title.1                  65 non-null     object \n",
      " 24  ratings_count_5          21 non-null     float64\n",
      " 25  ratings_count            21 non-null     float64\n",
      " 26  first_publish_year       65 non-null     float64\n",
      " 27  ddc                      22 non-null     object \n",
      " 28  subject                  55 non-null     object \n",
      "dtypes: float64(9), int64(2), object(18)\n",
      "memory usage: 15.2+ KB\n",
      "<class 'pandas.core.frame.DataFrame'>\n",
      "Int64Index: 125 entries, 259 to 6126\n",
      "Data columns (total 7 columns):\n",
      " #   Column           Non-Null Count  Dtype \n",
      "---  ------           --------------  ----- \n",
      " 0   all_rank_list    124 non-null    object\n",
      " 1   format           125 non-null    object\n",
      " 2   before_discount  125 non-null    object\n",
      " 3   new_price        125 non-null    object\n",
      " 4   title            125 non-null    object\n",
      " 5   scrape_time      125 non-null    object\n",
      " 6   other_list       125 non-null    object\n",
      "dtypes: object(7)\n",
      "memory usage: 7.8+ KB\n"
     ]
    }
   ],
   "source": [
    "book_data_valid = book_data[book_data[\"title\"].isin(data_with_price_all_books[\"title\"])]\n",
    "book_price_data_valid = data_with_price_all_books[data_with_price_all_books[\"title\"].isin(book_data_valid[\"title\"])]\n",
    "book_data_valid.info()\n",
    "book_price_data_valid.info()\n",
    "book_data_valid.to_excel(\"book_data_valid.xlsx\", index=False)\n",
    "book_price_data_valid.to_excel(\"book_price_data_valid.xlsx\", index=False)"
   ]
  },
  {
   "cell_type": "code",
   "execution_count": 6,
   "metadata": {},
   "outputs": [
    {
     "name": "stderr",
     "output_type": "stream",
     "text": [
      "C:\\Users\\USER\\AppData\\Local\\Temp\\ipykernel_6728\\2636834305.py:12: SettingWithCopyWarning: \n",
      "A value is trying to be set on a copy of a slice from a DataFrame.\n",
      "Try using .loc[row_indexer,col_indexer] = value instead\n",
      "\n",
      "See the caveats in the documentation: https://pandas.pydata.org/pandas-docs/stable/user_guide/indexing.html#returning-a-view-versus-a-copy\n",
      "  book_price_data_valid[\"format\"] = book_price_data_valid_format\n"
     ]
    }
   ],
   "source": [
    "valid_formats = [\"Hardcover\", \"Paperback\", \"Kindle\", \"Audiobook\"]\n",
    "\n",
    "\n",
    "def format_check(x):\n",
    "    for format in valid_formats:\n",
    "        if format in str(x):\n",
    "            return format\n",
    "    return \"other\"\n",
    "\n",
    "\n",
    "book_price_data_valid_format = book_price_data_valid[\"format\"].apply(format_check)\n",
    "book_price_data_valid[\"format\"] = book_price_data_valid_format\n",
    "book_price_data_valid.to_excel(\"book_price_data_valid.xlsx\", index=False)"
   ]
  },
  {
   "cell_type": "code",
   "execution_count": 7,
   "metadata": {},
   "outputs": [
    {
     "name": "stderr",
     "output_type": "stream",
     "text": [
      "C:\\Users\\USER\\AppData\\Local\\Temp\\ipykernel_6728\\2566127772.py:9: SettingWithCopyWarning: \n",
      "A value is trying to be set on a copy of a slice from a DataFrame.\n",
      "Try using .loc[row_indexer,col_indexer] = value instead\n",
      "\n",
      "See the caveats in the documentation: https://pandas.pydata.org/pandas-docs/stable/user_guide/indexing.html#returning-a-view-versus-a-copy\n",
      "  book_price_data_valid[\"before_discount\"] = book_price_data_valid_before_discount\n",
      "C:\\Users\\USER\\AppData\\Local\\Temp\\ipykernel_6728\\2566127772.py:11: SettingWithCopyWarning: \n",
      "A value is trying to be set on a copy of a slice from a DataFrame.\n",
      "Try using .loc[row_indexer,col_indexer] = value instead\n",
      "\n",
      "See the caveats in the documentation: https://pandas.pydata.org/pandas-docs/stable/user_guide/indexing.html#returning-a-view-versus-a-copy\n",
      "  book_price_data_valid[\"new_price\"] = book_price_data_valid_new_price\n"
     ]
    }
   ],
   "source": [
    "def get_price(x: str):\n",
    "    try:\n",
    "        return float(str(x).split(\"$\")[-1])\n",
    "    except:\n",
    "        return np.nan\n",
    "\n",
    "\n",
    "book_price_data_valid_before_discount = book_price_data_valid[\"before_discount\"].apply(get_price)\n",
    "book_price_data_valid[\"before_discount\"] = book_price_data_valid_before_discount\n",
    "book_price_data_valid_new_price = book_price_data_valid[\"new_price\"].apply(get_price)\n",
    "book_price_data_valid[\"new_price\"] = book_price_data_valid_new_price\n",
    "book_price_data_valid.to_excel(\"book_price_data_valid - price modified.xlsx\", index=False)"
   ]
  },
  {
   "cell_type": "code",
   "execution_count": 8,
   "metadata": {},
   "outputs": [],
   "source": [
    "valid_formats = [\"Hardcover\", \"Paperback\", \"Kindle\", \"Audiobook\"]\n",
    "\n",
    "for format in valid_formats:\n",
    "    format_price_data = book_price_data_valid[book_price_data_valid[\"format\"] == format]\n",
    "    # 將 book_data_valid 和 format_price_data 合併，並將 before_discount 值賦予到新的欄位\n",
    "    book_data_valid = book_data_valid.merge(format_price_data[[\"title\", \"before_discount\"]], on=\"title\", how=\"left\")\n",
    "    book_data_valid.rename(columns={\"before_discount\": f\"{format} Original Price\"}, inplace=True)\n",
    "\n",
    "for format in valid_formats:\n",
    "    format_price_data = book_price_data_valid[book_price_data_valid[\"format\"] == format]\n",
    "    # 將 book_data_valid 和 format_price_data 合併，並將 before_discount 值賦予到新的欄位\n",
    "    book_data_valid = book_data_valid.merge(format_price_data[[\"title\", \"new_price\"]], on=\"title\", how=\"left\")\n",
    "    book_data_valid.rename(columns={\"new_price\": f\"{format} Selling Price\"}, inplace=True)\n",
    "\n",
    "for format in valid_formats:\n",
    "    book_data_valid[f\"{format} Discount Ratio\"] = book_data_valid[f\"{format} Selling Price\"] / book_data_valid[f\"{format} Original Price\"]"
   ]
  },
  {
   "cell_type": "code",
   "execution_count": 23,
   "metadata": {},
   "outputs": [],
   "source": [
    "book_data_valid[\"last_publish_year\"] = book_data_valid[\"publish_year\"].apply(lambda x: sorted(ast.literal_eval(x), reverse=True)[0])"
   ]
  },
  {
   "cell_type": "code",
   "execution_count": 32,
   "metadata": {},
   "outputs": [],
   "source": [
    "book_data_valid = book_data_valid.merge(book_price_data_valid[[\"title\", \"all_rank_list\"]], on=\"title\", how=\"left\")"
   ]
  },
  {
   "cell_type": "code",
   "execution_count": 38,
   "metadata": {},
   "outputs": [],
   "source": [
    "book_data_valid[\"all_rank_list\"] = book_data_valid[\"all_rank_list\"].apply(lambda x: int(x[1:].replace(\",\", \"\")) if \"#\" in str(x) else np.nan)"
   ]
  },
  {
   "cell_type": "code",
   "execution_count": 35,
   "metadata": {},
   "outputs": [
    {
     "name": "stdout",
     "output_type": "stream",
     "text": [
      "<class 'pandas.core.frame.DataFrame'>\n",
      "Int64Index: 256 entries, 0 to 255\n",
      "Data columns (total 43 columns):\n",
      " #   Column                    Non-Null Count  Dtype  \n",
      "---  ------                    --------------  -----  \n",
      " 0   title                     256 non-null    object \n",
      " 1   ddc_sort                  96 non-null     object \n",
      " 2   ratings_average           92 non-null     float64\n",
      " 3   ebook_count_i             256 non-null    int64  \n",
      " 4   edition_count             256 non-null    int64  \n",
      " 5   key                       256 non-null    object \n",
      " 6   publisher                 256 non-null    object \n",
      " 7   publish_year              256 non-null    object \n",
      " 8   type                      256 non-null    object \n",
      " 9   isbn                      256 non-null    object \n",
      " 10  author_name               256 non-null    object \n",
      " 11  ratings_count_1           92 non-null     float64\n",
      " 12  ratings_count_2           92 non-null     float64\n",
      " 13  author_alternative_name   91 non-null     object \n",
      " 14  seed                      256 non-null    object \n",
      " 15  ratings_count_4           92 non-null     float64\n",
      " 16  lcc_sort                  153 non-null    object \n",
      " 17  publish_date              256 non-null    object \n",
      " 18  number_of_pages_median    173 non-null    float64\n",
      " 19  ebook_access              256 non-null    object \n",
      " 20  subject_key               227 non-null    object \n",
      " 21  ratings_count_3           92 non-null     float64\n",
      " 22  language                  241 non-null    object \n",
      " 23  title.1                   256 non-null    object \n",
      " 24  ratings_count_5           92 non-null     float64\n",
      " 25  ratings_count             92 non-null     float64\n",
      " 26  first_publish_year        256 non-null    float64\n",
      " 27  ddc                       96 non-null     object \n",
      " 28  subject                   227 non-null    object \n",
      " 29  Hardcover Original Price  132 non-null    float64\n",
      " 30  Paperback Original Price  118 non-null    float64\n",
      " 31  Kindle Original Price     0 non-null      float64\n",
      " 32  Audiobook Original Price  0 non-null      float64\n",
      " 33  Hardcover Selling Price   208 non-null    float64\n",
      " 34  Paperback Selling Price   240 non-null    float64\n",
      " 35  Kindle Selling Price      192 non-null    float64\n",
      " 36  Audiobook Selling Price   204 non-null    float64\n",
      " 37  Hardcover Discount Ratio  132 non-null    float64\n",
      " 38  Paperback Discount Ratio  118 non-null    float64\n",
      " 39  Kindle Discount Ratio     0 non-null      float64\n",
      " 40  Audiobook Discount Ratio  0 non-null      float64\n",
      " 41  last_publish_year         256 non-null    int64  \n",
      " 42  all_rank_list             255 non-null    object \n",
      "dtypes: float64(21), int64(3), object(19)\n",
      "memory usage: 88.0+ KB\n"
     ]
    }
   ],
   "source": [
    "book_data_valid.to_excel(\"book_data_valid.xlsx\", index=False)\n",
    "book_data_valid.info()"
   ]
  },
  {
   "cell_type": "code",
   "execution_count": 24,
   "metadata": {},
   "outputs": [
    {
     "data": {
      "application/vnd.plotly.v1+json": {
       "config": {
        "plotlyServerURL": "https://plot.ly"
       },
       "data": [
        {
         "hovertemplate": "last_publish_year=%{x}<br>Hardcover Discount Ratio=%{y}<extra></extra>",
         "legendgroup": "",
         "marker": {
          "color": "#636efa",
          "symbol": "circle"
         },
         "mode": "markers",
         "name": "",
         "orientation": "v",
         "showlegend": false,
         "type": "scatter",
         "x": [
          2024,
          2023,
          2023,
          2022,
          2022,
          2021,
          2019,
          2022,
          2022,
          2018,
          2018,
          2019,
          2018,
          2018,
          2019,
          2017,
          2017,
          2019,
          2017,
          2014,
          2016,
          2013,
          2013,
          2022,
          2017,
          2014,
          2013,
          2011,
          2011,
          2009,
          2009,
          2009,
          2008,
          2013,
          2021,
          2015,
          2009,
          2006,
          2022,
          2019,
          2022,
          2012,
          1999,
          2002,
          2002,
          2002,
          2002,
          2023,
          1995,
          1994,
          2006,
          2009,
          2022,
          1990,
          1990,
          2012,
          2007,
          2007,
          2007,
          2007,
          1981,
          2016,
          1992,
          2003,
          2022,
          2005,
          2023,
          2021,
          2050,
          1924,
          2021
         ],
         "xaxis": "x",
         "y": [
          0.4083333333333333,
          null,
          null,
          0.4537963507945851,
          null,
          0.6596,
          0.5588888888888889,
          null,
          0.5632816408204102,
          0.9479791916766708,
          0.5181727242414138,
          null,
          null,
          0.782391195597799,
          0.9484692331009396,
          0.7599039615846338,
          0.5588888888888889,
          null,
          0.4983333333333333,
          0.714,
          0.9479791916766708,
          0.782391195597799,
          0.782391195597799,
          0.5657142857142857,
          0.5225125069483046,
          0.714,
          null,
          null,
          null,
          0.7599039615846338,
          null,
          0.7599039615846338,
          0.782391195597799,
          0.782391195597799,
          null,
          0.824912456228114,
          null,
          null,
          null,
          null,
          0.824912456228114,
          null,
          0.5906510851419032,
          null,
          null,
          null,
          null,
          0.8086363636363636,
          null,
          null,
          0.5246428571428571,
          0.8086363636363636,
          0.5947973986993498,
          null,
          null,
          0.714,
          null,
          null,
          null,
          null,
          null,
          null,
          null,
          null,
          null,
          null,
          0.6543883583447022,
          0.7599039615846338,
          0.714,
          null,
          null
         ],
         "yaxis": "y"
        },
        {
         "hovertemplate": "<b>OLS trendline</b><br>Hardcover Discount Ratio = -0.00161327 * last_publish_year + 3.948<br>R<sup>2</sup>=0.008484<br><br>last_publish_year=%{x}<br>Hardcover Discount Ratio=%{y} <b>(trend)</b><extra></extra>",
         "legendgroup": "",
         "marker": {
          "color": "#636efa",
          "symbol": "circle"
         },
         "mode": "lines",
         "name": "",
         "showlegend": false,
         "type": "scatter",
         "x": [
          1999,
          2006,
          2008,
          2009,
          2009,
          2009,
          2012,
          2013,
          2013,
          2013,
          2014,
          2014,
          2015,
          2016,
          2017,
          2017,
          2017,
          2017,
          2018,
          2018,
          2018,
          2019,
          2019,
          2021,
          2021,
          2022,
          2022,
          2022,
          2022,
          2022,
          2023,
          2023,
          2024,
          2050
         ],
         "xaxis": "x",
         "y": [
          0.7230844326476387,
          0.7117915692701753,
          0.7085650368766143,
          0.7069517706798338,
          0.7069517706798338,
          0.7069517706798338,
          0.7021119720894928,
          0.7004987058927123,
          0.7004987058927123,
          0.7004987058927123,
          0.6988854396959319,
          0.6988854396959319,
          0.6972721734991514,
          0.6956589073023709,
          0.6940456411055904,
          0.6940456411055904,
          0.6940456411055904,
          0.6940456411055904,
          0.6924323749088099,
          0.6924323749088099,
          0.6924323749088099,
          0.6908191087120295,
          0.6908191087120295,
          0.6875925763184685,
          0.6875925763184685,
          0.685979310121688,
          0.685979310121688,
          0.685979310121688,
          0.685979310121688,
          0.685979310121688,
          0.6843660439249075,
          0.6843660439249075,
          0.682752777728127,
          0.6408078566118354
         ],
         "yaxis": "y"
        }
       ],
       "layout": {
        "legend": {
         "tracegroupgap": 0
        },
        "margin": {
         "t": 60
        },
        "template": {
         "data": {
          "bar": [
           {
            "error_x": {
             "color": "#2a3f5f"
            },
            "error_y": {
             "color": "#2a3f5f"
            },
            "marker": {
             "line": {
              "color": "#E5ECF6",
              "width": 0.5
             },
             "pattern": {
              "fillmode": "overlay",
              "size": 10,
              "solidity": 0.2
             }
            },
            "type": "bar"
           }
          ],
          "barpolar": [
           {
            "marker": {
             "line": {
              "color": "#E5ECF6",
              "width": 0.5
             },
             "pattern": {
              "fillmode": "overlay",
              "size": 10,
              "solidity": 0.2
             }
            },
            "type": "barpolar"
           }
          ],
          "carpet": [
           {
            "aaxis": {
             "endlinecolor": "#2a3f5f",
             "gridcolor": "white",
             "linecolor": "white",
             "minorgridcolor": "white",
             "startlinecolor": "#2a3f5f"
            },
            "baxis": {
             "endlinecolor": "#2a3f5f",
             "gridcolor": "white",
             "linecolor": "white",
             "minorgridcolor": "white",
             "startlinecolor": "#2a3f5f"
            },
            "type": "carpet"
           }
          ],
          "choropleth": [
           {
            "colorbar": {
             "outlinewidth": 0,
             "ticks": ""
            },
            "type": "choropleth"
           }
          ],
          "contour": [
           {
            "colorbar": {
             "outlinewidth": 0,
             "ticks": ""
            },
            "colorscale": [
             [
              0,
              "#0d0887"
             ],
             [
              0.1111111111111111,
              "#46039f"
             ],
             [
              0.2222222222222222,
              "#7201a8"
             ],
             [
              0.3333333333333333,
              "#9c179e"
             ],
             [
              0.4444444444444444,
              "#bd3786"
             ],
             [
              0.5555555555555556,
              "#d8576b"
             ],
             [
              0.6666666666666666,
              "#ed7953"
             ],
             [
              0.7777777777777778,
              "#fb9f3a"
             ],
             [
              0.8888888888888888,
              "#fdca26"
             ],
             [
              1,
              "#f0f921"
             ]
            ],
            "type": "contour"
           }
          ],
          "contourcarpet": [
           {
            "colorbar": {
             "outlinewidth": 0,
             "ticks": ""
            },
            "type": "contourcarpet"
           }
          ],
          "heatmap": [
           {
            "colorbar": {
             "outlinewidth": 0,
             "ticks": ""
            },
            "colorscale": [
             [
              0,
              "#0d0887"
             ],
             [
              0.1111111111111111,
              "#46039f"
             ],
             [
              0.2222222222222222,
              "#7201a8"
             ],
             [
              0.3333333333333333,
              "#9c179e"
             ],
             [
              0.4444444444444444,
              "#bd3786"
             ],
             [
              0.5555555555555556,
              "#d8576b"
             ],
             [
              0.6666666666666666,
              "#ed7953"
             ],
             [
              0.7777777777777778,
              "#fb9f3a"
             ],
             [
              0.8888888888888888,
              "#fdca26"
             ],
             [
              1,
              "#f0f921"
             ]
            ],
            "type": "heatmap"
           }
          ],
          "heatmapgl": [
           {
            "colorbar": {
             "outlinewidth": 0,
             "ticks": ""
            },
            "colorscale": [
             [
              0,
              "#0d0887"
             ],
             [
              0.1111111111111111,
              "#46039f"
             ],
             [
              0.2222222222222222,
              "#7201a8"
             ],
             [
              0.3333333333333333,
              "#9c179e"
             ],
             [
              0.4444444444444444,
              "#bd3786"
             ],
             [
              0.5555555555555556,
              "#d8576b"
             ],
             [
              0.6666666666666666,
              "#ed7953"
             ],
             [
              0.7777777777777778,
              "#fb9f3a"
             ],
             [
              0.8888888888888888,
              "#fdca26"
             ],
             [
              1,
              "#f0f921"
             ]
            ],
            "type": "heatmapgl"
           }
          ],
          "histogram": [
           {
            "marker": {
             "pattern": {
              "fillmode": "overlay",
              "size": 10,
              "solidity": 0.2
             }
            },
            "type": "histogram"
           }
          ],
          "histogram2d": [
           {
            "colorbar": {
             "outlinewidth": 0,
             "ticks": ""
            },
            "colorscale": [
             [
              0,
              "#0d0887"
             ],
             [
              0.1111111111111111,
              "#46039f"
             ],
             [
              0.2222222222222222,
              "#7201a8"
             ],
             [
              0.3333333333333333,
              "#9c179e"
             ],
             [
              0.4444444444444444,
              "#bd3786"
             ],
             [
              0.5555555555555556,
              "#d8576b"
             ],
             [
              0.6666666666666666,
              "#ed7953"
             ],
             [
              0.7777777777777778,
              "#fb9f3a"
             ],
             [
              0.8888888888888888,
              "#fdca26"
             ],
             [
              1,
              "#f0f921"
             ]
            ],
            "type": "histogram2d"
           }
          ],
          "histogram2dcontour": [
           {
            "colorbar": {
             "outlinewidth": 0,
             "ticks": ""
            },
            "colorscale": [
             [
              0,
              "#0d0887"
             ],
             [
              0.1111111111111111,
              "#46039f"
             ],
             [
              0.2222222222222222,
              "#7201a8"
             ],
             [
              0.3333333333333333,
              "#9c179e"
             ],
             [
              0.4444444444444444,
              "#bd3786"
             ],
             [
              0.5555555555555556,
              "#d8576b"
             ],
             [
              0.6666666666666666,
              "#ed7953"
             ],
             [
              0.7777777777777778,
              "#fb9f3a"
             ],
             [
              0.8888888888888888,
              "#fdca26"
             ],
             [
              1,
              "#f0f921"
             ]
            ],
            "type": "histogram2dcontour"
           }
          ],
          "mesh3d": [
           {
            "colorbar": {
             "outlinewidth": 0,
             "ticks": ""
            },
            "type": "mesh3d"
           }
          ],
          "parcoords": [
           {
            "line": {
             "colorbar": {
              "outlinewidth": 0,
              "ticks": ""
             }
            },
            "type": "parcoords"
           }
          ],
          "pie": [
           {
            "automargin": true,
            "type": "pie"
           }
          ],
          "scatter": [
           {
            "fillpattern": {
             "fillmode": "overlay",
             "size": 10,
             "solidity": 0.2
            },
            "type": "scatter"
           }
          ],
          "scatter3d": [
           {
            "line": {
             "colorbar": {
              "outlinewidth": 0,
              "ticks": ""
             }
            },
            "marker": {
             "colorbar": {
              "outlinewidth": 0,
              "ticks": ""
             }
            },
            "type": "scatter3d"
           }
          ],
          "scattercarpet": [
           {
            "marker": {
             "colorbar": {
              "outlinewidth": 0,
              "ticks": ""
             }
            },
            "type": "scattercarpet"
           }
          ],
          "scattergeo": [
           {
            "marker": {
             "colorbar": {
              "outlinewidth": 0,
              "ticks": ""
             }
            },
            "type": "scattergeo"
           }
          ],
          "scattergl": [
           {
            "marker": {
             "colorbar": {
              "outlinewidth": 0,
              "ticks": ""
             }
            },
            "type": "scattergl"
           }
          ],
          "scattermapbox": [
           {
            "marker": {
             "colorbar": {
              "outlinewidth": 0,
              "ticks": ""
             }
            },
            "type": "scattermapbox"
           }
          ],
          "scatterpolar": [
           {
            "marker": {
             "colorbar": {
              "outlinewidth": 0,
              "ticks": ""
             }
            },
            "type": "scatterpolar"
           }
          ],
          "scatterpolargl": [
           {
            "marker": {
             "colorbar": {
              "outlinewidth": 0,
              "ticks": ""
             }
            },
            "type": "scatterpolargl"
           }
          ],
          "scatterternary": [
           {
            "marker": {
             "colorbar": {
              "outlinewidth": 0,
              "ticks": ""
             }
            },
            "type": "scatterternary"
           }
          ],
          "surface": [
           {
            "colorbar": {
             "outlinewidth": 0,
             "ticks": ""
            },
            "colorscale": [
             [
              0,
              "#0d0887"
             ],
             [
              0.1111111111111111,
              "#46039f"
             ],
             [
              0.2222222222222222,
              "#7201a8"
             ],
             [
              0.3333333333333333,
              "#9c179e"
             ],
             [
              0.4444444444444444,
              "#bd3786"
             ],
             [
              0.5555555555555556,
              "#d8576b"
             ],
             [
              0.6666666666666666,
              "#ed7953"
             ],
             [
              0.7777777777777778,
              "#fb9f3a"
             ],
             [
              0.8888888888888888,
              "#fdca26"
             ],
             [
              1,
              "#f0f921"
             ]
            ],
            "type": "surface"
           }
          ],
          "table": [
           {
            "cells": {
             "fill": {
              "color": "#EBF0F8"
             },
             "line": {
              "color": "white"
             }
            },
            "header": {
             "fill": {
              "color": "#C8D4E3"
             },
             "line": {
              "color": "white"
             }
            },
            "type": "table"
           }
          ]
         },
         "layout": {
          "annotationdefaults": {
           "arrowcolor": "#2a3f5f",
           "arrowhead": 0,
           "arrowwidth": 1
          },
          "autotypenumbers": "strict",
          "coloraxis": {
           "colorbar": {
            "outlinewidth": 0,
            "ticks": ""
           }
          },
          "colorscale": {
           "diverging": [
            [
             0,
             "#8e0152"
            ],
            [
             0.1,
             "#c51b7d"
            ],
            [
             0.2,
             "#de77ae"
            ],
            [
             0.3,
             "#f1b6da"
            ],
            [
             0.4,
             "#fde0ef"
            ],
            [
             0.5,
             "#f7f7f7"
            ],
            [
             0.6,
             "#e6f5d0"
            ],
            [
             0.7,
             "#b8e186"
            ],
            [
             0.8,
             "#7fbc41"
            ],
            [
             0.9,
             "#4d9221"
            ],
            [
             1,
             "#276419"
            ]
           ],
           "sequential": [
            [
             0,
             "#0d0887"
            ],
            [
             0.1111111111111111,
             "#46039f"
            ],
            [
             0.2222222222222222,
             "#7201a8"
            ],
            [
             0.3333333333333333,
             "#9c179e"
            ],
            [
             0.4444444444444444,
             "#bd3786"
            ],
            [
             0.5555555555555556,
             "#d8576b"
            ],
            [
             0.6666666666666666,
             "#ed7953"
            ],
            [
             0.7777777777777778,
             "#fb9f3a"
            ],
            [
             0.8888888888888888,
             "#fdca26"
            ],
            [
             1,
             "#f0f921"
            ]
           ],
           "sequentialminus": [
            [
             0,
             "#0d0887"
            ],
            [
             0.1111111111111111,
             "#46039f"
            ],
            [
             0.2222222222222222,
             "#7201a8"
            ],
            [
             0.3333333333333333,
             "#9c179e"
            ],
            [
             0.4444444444444444,
             "#bd3786"
            ],
            [
             0.5555555555555556,
             "#d8576b"
            ],
            [
             0.6666666666666666,
             "#ed7953"
            ],
            [
             0.7777777777777778,
             "#fb9f3a"
            ],
            [
             0.8888888888888888,
             "#fdca26"
            ],
            [
             1,
             "#f0f921"
            ]
           ]
          },
          "colorway": [
           "#636efa",
           "#EF553B",
           "#00cc96",
           "#ab63fa",
           "#FFA15A",
           "#19d3f3",
           "#FF6692",
           "#B6E880",
           "#FF97FF",
           "#FECB52"
          ],
          "font": {
           "color": "#2a3f5f"
          },
          "geo": {
           "bgcolor": "white",
           "lakecolor": "white",
           "landcolor": "#E5ECF6",
           "showlakes": true,
           "showland": true,
           "subunitcolor": "white"
          },
          "hoverlabel": {
           "align": "left"
          },
          "hovermode": "closest",
          "mapbox": {
           "style": "light"
          },
          "paper_bgcolor": "white",
          "plot_bgcolor": "#E5ECF6",
          "polar": {
           "angularaxis": {
            "gridcolor": "white",
            "linecolor": "white",
            "ticks": ""
           },
           "bgcolor": "#E5ECF6",
           "radialaxis": {
            "gridcolor": "white",
            "linecolor": "white",
            "ticks": ""
           }
          },
          "scene": {
           "xaxis": {
            "backgroundcolor": "#E5ECF6",
            "gridcolor": "white",
            "gridwidth": 2,
            "linecolor": "white",
            "showbackground": true,
            "ticks": "",
            "zerolinecolor": "white"
           },
           "yaxis": {
            "backgroundcolor": "#E5ECF6",
            "gridcolor": "white",
            "gridwidth": 2,
            "linecolor": "white",
            "showbackground": true,
            "ticks": "",
            "zerolinecolor": "white"
           },
           "zaxis": {
            "backgroundcolor": "#E5ECF6",
            "gridcolor": "white",
            "gridwidth": 2,
            "linecolor": "white",
            "showbackground": true,
            "ticks": "",
            "zerolinecolor": "white"
           }
          },
          "shapedefaults": {
           "line": {
            "color": "#2a3f5f"
           }
          },
          "ternary": {
           "aaxis": {
            "gridcolor": "white",
            "linecolor": "white",
            "ticks": ""
           },
           "baxis": {
            "gridcolor": "white",
            "linecolor": "white",
            "ticks": ""
           },
           "bgcolor": "#E5ECF6",
           "caxis": {
            "gridcolor": "white",
            "linecolor": "white",
            "ticks": ""
           }
          },
          "title": {
           "x": 0.05
          },
          "xaxis": {
           "automargin": true,
           "gridcolor": "white",
           "linecolor": "white",
           "ticks": "",
           "title": {
            "standoff": 15
           },
           "zerolinecolor": "white",
           "zerolinewidth": 2
          },
          "yaxis": {
           "automargin": true,
           "gridcolor": "white",
           "linecolor": "white",
           "ticks": "",
           "title": {
            "standoff": 15
           },
           "zerolinecolor": "white",
           "zerolinewidth": 2
          }
         }
        },
        "xaxis": {
         "anchor": "y",
         "domain": [
          0,
          1
         ],
         "title": {
          "text": "last_publish_year"
         }
        },
        "yaxis": {
         "anchor": "x",
         "domain": [
          0,
          1
         ],
         "title": {
          "text": "Hardcover Discount Ratio"
         }
        }
       }
      }
     },
     "metadata": {},
     "output_type": "display_data"
    }
   ],
   "source": [
    "fig = px.scatter(book_data_valid, x=\"last_publish_year\", y=\"Hardcover Discount Ratio\", trendline=\"ols\")\n",
    "fig.show()"
   ]
  },
  {
   "cell_type": "code",
   "execution_count": 25,
   "metadata": {},
   "outputs": [
    {
     "data": {
      "application/vnd.plotly.v1+json": {
       "config": {
        "plotlyServerURL": "https://plot.ly"
       },
       "data": [
        {
         "hovertemplate": "last_publish_year=%{x}<br>Paperback Discount Ratio=%{y}<extra></extra>",
         "legendgroup": "",
         "marker": {
          "color": "#636efa",
          "symbol": "circle"
         },
         "mode": "markers",
         "name": "",
         "orientation": "v",
         "showlegend": false,
         "type": "scatter",
         "x": [
          2024,
          2023,
          2023,
          2022,
          2022,
          2021,
          2019,
          2022,
          2022,
          2018,
          2018,
          2019,
          2018,
          2018,
          2019,
          2017,
          2017,
          2019,
          2017,
          2014,
          2016,
          2013,
          2013,
          2022,
          2017,
          2014,
          2013,
          2011,
          2011,
          2009,
          2009,
          2009,
          2008,
          2013,
          2021,
          2015,
          2009,
          2006,
          2022,
          2019,
          2022,
          2012,
          1999,
          2002,
          2002,
          2002,
          2002,
          2023,
          1995,
          1994,
          2006,
          2009,
          2022,
          1990,
          1990,
          2012,
          2007,
          2007,
          2007,
          2007,
          1981,
          2016,
          1992,
          2003,
          2022,
          2005,
          2023,
          2021,
          2050,
          1924,
          2021
         ],
         "xaxis": "x",
         "y": [
          0.5655263157894737,
          0.541875,
          null,
          null,
          0.6478947368421053,
          null,
          0.555,
          null,
          0.7252047315741583,
          0.9323131253678635,
          null,
          null,
          null,
          null,
          null,
          0.7498610339077266,
          0.555,
          0.7337409672040023,
          0.67983991995998,
          0.5650342285413377,
          0.9323131253678635,
          null,
          null,
          null,
          null,
          0.5650342285413377,
          null,
          null,
          null,
          0.7498610339077266,
          null,
          0.7498610339077266,
          null,
          null,
          null,
          0.7497497497497497,
          null,
          null,
          null,
          0.541875,
          0.7497497497497497,
          0.6478947368421053,
          null,
          null,
          null,
          null,
          null,
          0.6148074037018509,
          null,
          null,
          0.5833333333333334,
          0.6148074037018509,
          0.6230191826522101,
          0.6218020022246941,
          null,
          0.5650342285413377,
          null,
          null,
          null,
          null,
          null,
          0.6478947368421053,
          null,
          null,
          null,
          null,
          0.740644683216006,
          0.7498610339077266,
          0.5650342285413377,
          0.7710417892878164,
          null
         ],
         "yaxis": "y"
        },
        {
         "hovertemplate": "<b>OLS trendline</b><br>Paperback Discount Ratio = -0.00106656 * last_publish_year + 2.81602<br>R<sup>2</sup>=0.037327<br><br>last_publish_year=%{x}<br>Paperback Discount Ratio=%{y} <b>(trend)</b><extra></extra>",
         "legendgroup": "",
         "marker": {
          "color": "#636efa",
          "symbol": "circle"
         },
         "mode": "lines",
         "name": "",
         "showlegend": false,
         "type": "scatter",
         "x": [
          1924,
          1990,
          2006,
          2009,
          2009,
          2009,
          2012,
          2012,
          2014,
          2014,
          2015,
          2016,
          2016,
          2017,
          2017,
          2017,
          2018,
          2019,
          2019,
          2019,
          2021,
          2022,
          2022,
          2022,
          2022,
          2023,
          2023,
          2023,
          2024,
          2050
         ],
         "xaxis": "x",
         "y": [
          0.7639625032549167,
          0.6935698333609364,
          0.6765049436896686,
          0.6733052768763059,
          0.6733052768763059,
          0.6733052768763059,
          0.6701056100629432,
          0.6701056100629432,
          0.6679724988540348,
          0.6679724988540348,
          0.6669059432495805,
          0.6658393876451263,
          0.6658393876451263,
          0.6647728320406721,
          0.6647728320406721,
          0.6647728320406721,
          0.6637062764362178,
          0.6626397208317636,
          0.6626397208317636,
          0.6626397208317636,
          0.6605066096228551,
          0.6594400540184009,
          0.6594400540184009,
          0.6594400540184009,
          0.6594400540184009,
          0.6583734984139467,
          0.6583734984139467,
          0.6583734984139467,
          0.6573069428094924,
          0.6295764970936819
         ],
         "yaxis": "y"
        }
       ],
       "layout": {
        "legend": {
         "tracegroupgap": 0
        },
        "margin": {
         "t": 60
        },
        "template": {
         "data": {
          "bar": [
           {
            "error_x": {
             "color": "#2a3f5f"
            },
            "error_y": {
             "color": "#2a3f5f"
            },
            "marker": {
             "line": {
              "color": "#E5ECF6",
              "width": 0.5
             },
             "pattern": {
              "fillmode": "overlay",
              "size": 10,
              "solidity": 0.2
             }
            },
            "type": "bar"
           }
          ],
          "barpolar": [
           {
            "marker": {
             "line": {
              "color": "#E5ECF6",
              "width": 0.5
             },
             "pattern": {
              "fillmode": "overlay",
              "size": 10,
              "solidity": 0.2
             }
            },
            "type": "barpolar"
           }
          ],
          "carpet": [
           {
            "aaxis": {
             "endlinecolor": "#2a3f5f",
             "gridcolor": "white",
             "linecolor": "white",
             "minorgridcolor": "white",
             "startlinecolor": "#2a3f5f"
            },
            "baxis": {
             "endlinecolor": "#2a3f5f",
             "gridcolor": "white",
             "linecolor": "white",
             "minorgridcolor": "white",
             "startlinecolor": "#2a3f5f"
            },
            "type": "carpet"
           }
          ],
          "choropleth": [
           {
            "colorbar": {
             "outlinewidth": 0,
             "ticks": ""
            },
            "type": "choropleth"
           }
          ],
          "contour": [
           {
            "colorbar": {
             "outlinewidth": 0,
             "ticks": ""
            },
            "colorscale": [
             [
              0,
              "#0d0887"
             ],
             [
              0.1111111111111111,
              "#46039f"
             ],
             [
              0.2222222222222222,
              "#7201a8"
             ],
             [
              0.3333333333333333,
              "#9c179e"
             ],
             [
              0.4444444444444444,
              "#bd3786"
             ],
             [
              0.5555555555555556,
              "#d8576b"
             ],
             [
              0.6666666666666666,
              "#ed7953"
             ],
             [
              0.7777777777777778,
              "#fb9f3a"
             ],
             [
              0.8888888888888888,
              "#fdca26"
             ],
             [
              1,
              "#f0f921"
             ]
            ],
            "type": "contour"
           }
          ],
          "contourcarpet": [
           {
            "colorbar": {
             "outlinewidth": 0,
             "ticks": ""
            },
            "type": "contourcarpet"
           }
          ],
          "heatmap": [
           {
            "colorbar": {
             "outlinewidth": 0,
             "ticks": ""
            },
            "colorscale": [
             [
              0,
              "#0d0887"
             ],
             [
              0.1111111111111111,
              "#46039f"
             ],
             [
              0.2222222222222222,
              "#7201a8"
             ],
             [
              0.3333333333333333,
              "#9c179e"
             ],
             [
              0.4444444444444444,
              "#bd3786"
             ],
             [
              0.5555555555555556,
              "#d8576b"
             ],
             [
              0.6666666666666666,
              "#ed7953"
             ],
             [
              0.7777777777777778,
              "#fb9f3a"
             ],
             [
              0.8888888888888888,
              "#fdca26"
             ],
             [
              1,
              "#f0f921"
             ]
            ],
            "type": "heatmap"
           }
          ],
          "heatmapgl": [
           {
            "colorbar": {
             "outlinewidth": 0,
             "ticks": ""
            },
            "colorscale": [
             [
              0,
              "#0d0887"
             ],
             [
              0.1111111111111111,
              "#46039f"
             ],
             [
              0.2222222222222222,
              "#7201a8"
             ],
             [
              0.3333333333333333,
              "#9c179e"
             ],
             [
              0.4444444444444444,
              "#bd3786"
             ],
             [
              0.5555555555555556,
              "#d8576b"
             ],
             [
              0.6666666666666666,
              "#ed7953"
             ],
             [
              0.7777777777777778,
              "#fb9f3a"
             ],
             [
              0.8888888888888888,
              "#fdca26"
             ],
             [
              1,
              "#f0f921"
             ]
            ],
            "type": "heatmapgl"
           }
          ],
          "histogram": [
           {
            "marker": {
             "pattern": {
              "fillmode": "overlay",
              "size": 10,
              "solidity": 0.2
             }
            },
            "type": "histogram"
           }
          ],
          "histogram2d": [
           {
            "colorbar": {
             "outlinewidth": 0,
             "ticks": ""
            },
            "colorscale": [
             [
              0,
              "#0d0887"
             ],
             [
              0.1111111111111111,
              "#46039f"
             ],
             [
              0.2222222222222222,
              "#7201a8"
             ],
             [
              0.3333333333333333,
              "#9c179e"
             ],
             [
              0.4444444444444444,
              "#bd3786"
             ],
             [
              0.5555555555555556,
              "#d8576b"
             ],
             [
              0.6666666666666666,
              "#ed7953"
             ],
             [
              0.7777777777777778,
              "#fb9f3a"
             ],
             [
              0.8888888888888888,
              "#fdca26"
             ],
             [
              1,
              "#f0f921"
             ]
            ],
            "type": "histogram2d"
           }
          ],
          "histogram2dcontour": [
           {
            "colorbar": {
             "outlinewidth": 0,
             "ticks": ""
            },
            "colorscale": [
             [
              0,
              "#0d0887"
             ],
             [
              0.1111111111111111,
              "#46039f"
             ],
             [
              0.2222222222222222,
              "#7201a8"
             ],
             [
              0.3333333333333333,
              "#9c179e"
             ],
             [
              0.4444444444444444,
              "#bd3786"
             ],
             [
              0.5555555555555556,
              "#d8576b"
             ],
             [
              0.6666666666666666,
              "#ed7953"
             ],
             [
              0.7777777777777778,
              "#fb9f3a"
             ],
             [
              0.8888888888888888,
              "#fdca26"
             ],
             [
              1,
              "#f0f921"
             ]
            ],
            "type": "histogram2dcontour"
           }
          ],
          "mesh3d": [
           {
            "colorbar": {
             "outlinewidth": 0,
             "ticks": ""
            },
            "type": "mesh3d"
           }
          ],
          "parcoords": [
           {
            "line": {
             "colorbar": {
              "outlinewidth": 0,
              "ticks": ""
             }
            },
            "type": "parcoords"
           }
          ],
          "pie": [
           {
            "automargin": true,
            "type": "pie"
           }
          ],
          "scatter": [
           {
            "fillpattern": {
             "fillmode": "overlay",
             "size": 10,
             "solidity": 0.2
            },
            "type": "scatter"
           }
          ],
          "scatter3d": [
           {
            "line": {
             "colorbar": {
              "outlinewidth": 0,
              "ticks": ""
             }
            },
            "marker": {
             "colorbar": {
              "outlinewidth": 0,
              "ticks": ""
             }
            },
            "type": "scatter3d"
           }
          ],
          "scattercarpet": [
           {
            "marker": {
             "colorbar": {
              "outlinewidth": 0,
              "ticks": ""
             }
            },
            "type": "scattercarpet"
           }
          ],
          "scattergeo": [
           {
            "marker": {
             "colorbar": {
              "outlinewidth": 0,
              "ticks": ""
             }
            },
            "type": "scattergeo"
           }
          ],
          "scattergl": [
           {
            "marker": {
             "colorbar": {
              "outlinewidth": 0,
              "ticks": ""
             }
            },
            "type": "scattergl"
           }
          ],
          "scattermapbox": [
           {
            "marker": {
             "colorbar": {
              "outlinewidth": 0,
              "ticks": ""
             }
            },
            "type": "scattermapbox"
           }
          ],
          "scatterpolar": [
           {
            "marker": {
             "colorbar": {
              "outlinewidth": 0,
              "ticks": ""
             }
            },
            "type": "scatterpolar"
           }
          ],
          "scatterpolargl": [
           {
            "marker": {
             "colorbar": {
              "outlinewidth": 0,
              "ticks": ""
             }
            },
            "type": "scatterpolargl"
           }
          ],
          "scatterternary": [
           {
            "marker": {
             "colorbar": {
              "outlinewidth": 0,
              "ticks": ""
             }
            },
            "type": "scatterternary"
           }
          ],
          "surface": [
           {
            "colorbar": {
             "outlinewidth": 0,
             "ticks": ""
            },
            "colorscale": [
             [
              0,
              "#0d0887"
             ],
             [
              0.1111111111111111,
              "#46039f"
             ],
             [
              0.2222222222222222,
              "#7201a8"
             ],
             [
              0.3333333333333333,
              "#9c179e"
             ],
             [
              0.4444444444444444,
              "#bd3786"
             ],
             [
              0.5555555555555556,
              "#d8576b"
             ],
             [
              0.6666666666666666,
              "#ed7953"
             ],
             [
              0.7777777777777778,
              "#fb9f3a"
             ],
             [
              0.8888888888888888,
              "#fdca26"
             ],
             [
              1,
              "#f0f921"
             ]
            ],
            "type": "surface"
           }
          ],
          "table": [
           {
            "cells": {
             "fill": {
              "color": "#EBF0F8"
             },
             "line": {
              "color": "white"
             }
            },
            "header": {
             "fill": {
              "color": "#C8D4E3"
             },
             "line": {
              "color": "white"
             }
            },
            "type": "table"
           }
          ]
         },
         "layout": {
          "annotationdefaults": {
           "arrowcolor": "#2a3f5f",
           "arrowhead": 0,
           "arrowwidth": 1
          },
          "autotypenumbers": "strict",
          "coloraxis": {
           "colorbar": {
            "outlinewidth": 0,
            "ticks": ""
           }
          },
          "colorscale": {
           "diverging": [
            [
             0,
             "#8e0152"
            ],
            [
             0.1,
             "#c51b7d"
            ],
            [
             0.2,
             "#de77ae"
            ],
            [
             0.3,
             "#f1b6da"
            ],
            [
             0.4,
             "#fde0ef"
            ],
            [
             0.5,
             "#f7f7f7"
            ],
            [
             0.6,
             "#e6f5d0"
            ],
            [
             0.7,
             "#b8e186"
            ],
            [
             0.8,
             "#7fbc41"
            ],
            [
             0.9,
             "#4d9221"
            ],
            [
             1,
             "#276419"
            ]
           ],
           "sequential": [
            [
             0,
             "#0d0887"
            ],
            [
             0.1111111111111111,
             "#46039f"
            ],
            [
             0.2222222222222222,
             "#7201a8"
            ],
            [
             0.3333333333333333,
             "#9c179e"
            ],
            [
             0.4444444444444444,
             "#bd3786"
            ],
            [
             0.5555555555555556,
             "#d8576b"
            ],
            [
             0.6666666666666666,
             "#ed7953"
            ],
            [
             0.7777777777777778,
             "#fb9f3a"
            ],
            [
             0.8888888888888888,
             "#fdca26"
            ],
            [
             1,
             "#f0f921"
            ]
           ],
           "sequentialminus": [
            [
             0,
             "#0d0887"
            ],
            [
             0.1111111111111111,
             "#46039f"
            ],
            [
             0.2222222222222222,
             "#7201a8"
            ],
            [
             0.3333333333333333,
             "#9c179e"
            ],
            [
             0.4444444444444444,
             "#bd3786"
            ],
            [
             0.5555555555555556,
             "#d8576b"
            ],
            [
             0.6666666666666666,
             "#ed7953"
            ],
            [
             0.7777777777777778,
             "#fb9f3a"
            ],
            [
             0.8888888888888888,
             "#fdca26"
            ],
            [
             1,
             "#f0f921"
            ]
           ]
          },
          "colorway": [
           "#636efa",
           "#EF553B",
           "#00cc96",
           "#ab63fa",
           "#FFA15A",
           "#19d3f3",
           "#FF6692",
           "#B6E880",
           "#FF97FF",
           "#FECB52"
          ],
          "font": {
           "color": "#2a3f5f"
          },
          "geo": {
           "bgcolor": "white",
           "lakecolor": "white",
           "landcolor": "#E5ECF6",
           "showlakes": true,
           "showland": true,
           "subunitcolor": "white"
          },
          "hoverlabel": {
           "align": "left"
          },
          "hovermode": "closest",
          "mapbox": {
           "style": "light"
          },
          "paper_bgcolor": "white",
          "plot_bgcolor": "#E5ECF6",
          "polar": {
           "angularaxis": {
            "gridcolor": "white",
            "linecolor": "white",
            "ticks": ""
           },
           "bgcolor": "#E5ECF6",
           "radialaxis": {
            "gridcolor": "white",
            "linecolor": "white",
            "ticks": ""
           }
          },
          "scene": {
           "xaxis": {
            "backgroundcolor": "#E5ECF6",
            "gridcolor": "white",
            "gridwidth": 2,
            "linecolor": "white",
            "showbackground": true,
            "ticks": "",
            "zerolinecolor": "white"
           },
           "yaxis": {
            "backgroundcolor": "#E5ECF6",
            "gridcolor": "white",
            "gridwidth": 2,
            "linecolor": "white",
            "showbackground": true,
            "ticks": "",
            "zerolinecolor": "white"
           },
           "zaxis": {
            "backgroundcolor": "#E5ECF6",
            "gridcolor": "white",
            "gridwidth": 2,
            "linecolor": "white",
            "showbackground": true,
            "ticks": "",
            "zerolinecolor": "white"
           }
          },
          "shapedefaults": {
           "line": {
            "color": "#2a3f5f"
           }
          },
          "ternary": {
           "aaxis": {
            "gridcolor": "white",
            "linecolor": "white",
            "ticks": ""
           },
           "baxis": {
            "gridcolor": "white",
            "linecolor": "white",
            "ticks": ""
           },
           "bgcolor": "#E5ECF6",
           "caxis": {
            "gridcolor": "white",
            "linecolor": "white",
            "ticks": ""
           }
          },
          "title": {
           "x": 0.05
          },
          "xaxis": {
           "automargin": true,
           "gridcolor": "white",
           "linecolor": "white",
           "ticks": "",
           "title": {
            "standoff": 15
           },
           "zerolinecolor": "white",
           "zerolinewidth": 2
          },
          "yaxis": {
           "automargin": true,
           "gridcolor": "white",
           "linecolor": "white",
           "ticks": "",
           "title": {
            "standoff": 15
           },
           "zerolinecolor": "white",
           "zerolinewidth": 2
          }
         }
        },
        "xaxis": {
         "anchor": "y",
         "domain": [
          0,
          1
         ],
         "title": {
          "text": "last_publish_year"
         }
        },
        "yaxis": {
         "anchor": "x",
         "domain": [
          0,
          1
         ],
         "title": {
          "text": "Paperback Discount Ratio"
         }
        }
       }
      }
     },
     "metadata": {},
     "output_type": "display_data"
    }
   ],
   "source": [
    "fig = px.scatter(book_data_valid, x=\"last_publish_year\", y=\"Paperback Discount Ratio\", trendline=\"ols\")\n",
    "fig.show()"
   ]
  },
  {
   "cell_type": "code",
   "execution_count": 27,
   "metadata": {},
   "outputs": [
    {
     "data": {
      "application/vnd.plotly.v1+json": {
       "config": {
        "plotlyServerURL": "https://plot.ly"
       },
       "data": [
        {
         "hovertemplate": "Paperback Discount Ratio=%{x}<br>Hardcover Discount Ratio=%{y}<extra></extra>",
         "legendgroup": "",
         "marker": {
          "color": "#636efa",
          "symbol": "circle"
         },
         "mode": "markers",
         "name": "",
         "orientation": "v",
         "showlegend": false,
         "type": "scatter",
         "x": [
          0.5655263157894737,
          0.541875,
          null,
          null,
          0.6478947368421053,
          null,
          0.555,
          null,
          0.7252047315741583,
          0.9323131253678635,
          null,
          null,
          null,
          null,
          null,
          0.7498610339077266,
          0.555,
          0.7337409672040023,
          0.67983991995998,
          0.5650342285413377,
          0.9323131253678635,
          null,
          null,
          null,
          null,
          0.5650342285413377,
          null,
          null,
          null,
          0.7498610339077266,
          null,
          0.7498610339077266,
          null,
          null,
          null,
          0.7497497497497497,
          null,
          null,
          null,
          0.541875,
          0.7497497497497497,
          0.6478947368421053,
          null,
          null,
          null,
          null,
          null,
          0.6148074037018509,
          null,
          null,
          0.5833333333333334,
          0.6148074037018509,
          0.6230191826522101,
          0.6218020022246941,
          null,
          0.5650342285413377,
          null,
          null,
          null,
          null,
          null,
          0.6478947368421053,
          null,
          null,
          null,
          null,
          0.740644683216006,
          0.7498610339077266,
          0.5650342285413377,
          0.7710417892878164,
          null
         ],
         "xaxis": "x",
         "y": [
          0.4083333333333333,
          null,
          null,
          0.4537963507945851,
          null,
          0.6596,
          0.5588888888888889,
          null,
          0.5632816408204102,
          0.9479791916766708,
          0.5181727242414138,
          null,
          null,
          0.782391195597799,
          0.9484692331009396,
          0.7599039615846338,
          0.5588888888888889,
          null,
          0.4983333333333333,
          0.714,
          0.9479791916766708,
          0.782391195597799,
          0.782391195597799,
          0.5657142857142857,
          0.5225125069483046,
          0.714,
          null,
          null,
          null,
          0.7599039615846338,
          null,
          0.7599039615846338,
          0.782391195597799,
          0.782391195597799,
          null,
          0.824912456228114,
          null,
          null,
          null,
          null,
          0.824912456228114,
          null,
          0.5906510851419032,
          null,
          null,
          null,
          null,
          0.8086363636363636,
          null,
          null,
          0.5246428571428571,
          0.8086363636363636,
          0.5947973986993498,
          null,
          null,
          0.714,
          null,
          null,
          null,
          null,
          null,
          null,
          null,
          null,
          null,
          null,
          0.6543883583447022,
          0.7599039615846338,
          0.714,
          null,
          null
         ],
         "yaxis": "y"
        },
        {
         "hovertemplate": "<b>OLS trendline</b><br>Hardcover Discount Ratio = 0.790039 * Paperback Discount Ratio + 0.166534<br>R<sup>2</sup>=0.415535<br><br>Paperback Discount Ratio=%{x}<br>Hardcover Discount Ratio=%{y} <b>(trend)</b><extra></extra>",
         "legendgroup": "",
         "marker": {
          "color": "#636efa",
          "symbol": "circle"
         },
         "mode": "lines",
         "name": "",
         "showlegend": false,
         "type": "scatter",
         "x": [
          0.555,
          0.555,
          0.5650342285413377,
          0.5650342285413377,
          0.5650342285413377,
          0.5650342285413377,
          0.5655263157894737,
          0.5833333333333334,
          0.6148074037018509,
          0.6148074037018509,
          0.6230191826522101,
          0.67983991995998,
          0.7252047315741583,
          0.740644683216006,
          0.7497497497497497,
          0.7497497497497497,
          0.7498610339077266,
          0.7498610339077266,
          0.7498610339077266,
          0.7498610339077266,
          0.9323131253678635,
          0.9323131253678635
         ],
         "xaxis": "x",
         "y": [
          0.6050053814116738,
          0.6050053814116738,
          0.6129328173955833,
          0.6129328173955833,
          0.6129328173955833,
          0.6129328173955833,
          0.6133215857141466,
          0.6273898313258299,
          0.6522555872702549,
          0.6522555872702549,
          0.6587432162568585,
          0.7036338379633713,
          0.7394738269084078,
          0.751671997174429,
          0.7588653585552401,
          0.7588653585552401,
          0.7589532774256096,
          0.7589532774256096,
          0.7589532774256096,
          0.7589532774256096,
          0.9030976198852259,
          0.9030976198852259
         ],
         "yaxis": "y"
        }
       ],
       "layout": {
        "legend": {
         "tracegroupgap": 0
        },
        "margin": {
         "t": 60
        },
        "template": {
         "data": {
          "bar": [
           {
            "error_x": {
             "color": "#2a3f5f"
            },
            "error_y": {
             "color": "#2a3f5f"
            },
            "marker": {
             "line": {
              "color": "#E5ECF6",
              "width": 0.5
             },
             "pattern": {
              "fillmode": "overlay",
              "size": 10,
              "solidity": 0.2
             }
            },
            "type": "bar"
           }
          ],
          "barpolar": [
           {
            "marker": {
             "line": {
              "color": "#E5ECF6",
              "width": 0.5
             },
             "pattern": {
              "fillmode": "overlay",
              "size": 10,
              "solidity": 0.2
             }
            },
            "type": "barpolar"
           }
          ],
          "carpet": [
           {
            "aaxis": {
             "endlinecolor": "#2a3f5f",
             "gridcolor": "white",
             "linecolor": "white",
             "minorgridcolor": "white",
             "startlinecolor": "#2a3f5f"
            },
            "baxis": {
             "endlinecolor": "#2a3f5f",
             "gridcolor": "white",
             "linecolor": "white",
             "minorgridcolor": "white",
             "startlinecolor": "#2a3f5f"
            },
            "type": "carpet"
           }
          ],
          "choropleth": [
           {
            "colorbar": {
             "outlinewidth": 0,
             "ticks": ""
            },
            "type": "choropleth"
           }
          ],
          "contour": [
           {
            "colorbar": {
             "outlinewidth": 0,
             "ticks": ""
            },
            "colorscale": [
             [
              0,
              "#0d0887"
             ],
             [
              0.1111111111111111,
              "#46039f"
             ],
             [
              0.2222222222222222,
              "#7201a8"
             ],
             [
              0.3333333333333333,
              "#9c179e"
             ],
             [
              0.4444444444444444,
              "#bd3786"
             ],
             [
              0.5555555555555556,
              "#d8576b"
             ],
             [
              0.6666666666666666,
              "#ed7953"
             ],
             [
              0.7777777777777778,
              "#fb9f3a"
             ],
             [
              0.8888888888888888,
              "#fdca26"
             ],
             [
              1,
              "#f0f921"
             ]
            ],
            "type": "contour"
           }
          ],
          "contourcarpet": [
           {
            "colorbar": {
             "outlinewidth": 0,
             "ticks": ""
            },
            "type": "contourcarpet"
           }
          ],
          "heatmap": [
           {
            "colorbar": {
             "outlinewidth": 0,
             "ticks": ""
            },
            "colorscale": [
             [
              0,
              "#0d0887"
             ],
             [
              0.1111111111111111,
              "#46039f"
             ],
             [
              0.2222222222222222,
              "#7201a8"
             ],
             [
              0.3333333333333333,
              "#9c179e"
             ],
             [
              0.4444444444444444,
              "#bd3786"
             ],
             [
              0.5555555555555556,
              "#d8576b"
             ],
             [
              0.6666666666666666,
              "#ed7953"
             ],
             [
              0.7777777777777778,
              "#fb9f3a"
             ],
             [
              0.8888888888888888,
              "#fdca26"
             ],
             [
              1,
              "#f0f921"
             ]
            ],
            "type": "heatmap"
           }
          ],
          "heatmapgl": [
           {
            "colorbar": {
             "outlinewidth": 0,
             "ticks": ""
            },
            "colorscale": [
             [
              0,
              "#0d0887"
             ],
             [
              0.1111111111111111,
              "#46039f"
             ],
             [
              0.2222222222222222,
              "#7201a8"
             ],
             [
              0.3333333333333333,
              "#9c179e"
             ],
             [
              0.4444444444444444,
              "#bd3786"
             ],
             [
              0.5555555555555556,
              "#d8576b"
             ],
             [
              0.6666666666666666,
              "#ed7953"
             ],
             [
              0.7777777777777778,
              "#fb9f3a"
             ],
             [
              0.8888888888888888,
              "#fdca26"
             ],
             [
              1,
              "#f0f921"
             ]
            ],
            "type": "heatmapgl"
           }
          ],
          "histogram": [
           {
            "marker": {
             "pattern": {
              "fillmode": "overlay",
              "size": 10,
              "solidity": 0.2
             }
            },
            "type": "histogram"
           }
          ],
          "histogram2d": [
           {
            "colorbar": {
             "outlinewidth": 0,
             "ticks": ""
            },
            "colorscale": [
             [
              0,
              "#0d0887"
             ],
             [
              0.1111111111111111,
              "#46039f"
             ],
             [
              0.2222222222222222,
              "#7201a8"
             ],
             [
              0.3333333333333333,
              "#9c179e"
             ],
             [
              0.4444444444444444,
              "#bd3786"
             ],
             [
              0.5555555555555556,
              "#d8576b"
             ],
             [
              0.6666666666666666,
              "#ed7953"
             ],
             [
              0.7777777777777778,
              "#fb9f3a"
             ],
             [
              0.8888888888888888,
              "#fdca26"
             ],
             [
              1,
              "#f0f921"
             ]
            ],
            "type": "histogram2d"
           }
          ],
          "histogram2dcontour": [
           {
            "colorbar": {
             "outlinewidth": 0,
             "ticks": ""
            },
            "colorscale": [
             [
              0,
              "#0d0887"
             ],
             [
              0.1111111111111111,
              "#46039f"
             ],
             [
              0.2222222222222222,
              "#7201a8"
             ],
             [
              0.3333333333333333,
              "#9c179e"
             ],
             [
              0.4444444444444444,
              "#bd3786"
             ],
             [
              0.5555555555555556,
              "#d8576b"
             ],
             [
              0.6666666666666666,
              "#ed7953"
             ],
             [
              0.7777777777777778,
              "#fb9f3a"
             ],
             [
              0.8888888888888888,
              "#fdca26"
             ],
             [
              1,
              "#f0f921"
             ]
            ],
            "type": "histogram2dcontour"
           }
          ],
          "mesh3d": [
           {
            "colorbar": {
             "outlinewidth": 0,
             "ticks": ""
            },
            "type": "mesh3d"
           }
          ],
          "parcoords": [
           {
            "line": {
             "colorbar": {
              "outlinewidth": 0,
              "ticks": ""
             }
            },
            "type": "parcoords"
           }
          ],
          "pie": [
           {
            "automargin": true,
            "type": "pie"
           }
          ],
          "scatter": [
           {
            "fillpattern": {
             "fillmode": "overlay",
             "size": 10,
             "solidity": 0.2
            },
            "type": "scatter"
           }
          ],
          "scatter3d": [
           {
            "line": {
             "colorbar": {
              "outlinewidth": 0,
              "ticks": ""
             }
            },
            "marker": {
             "colorbar": {
              "outlinewidth": 0,
              "ticks": ""
             }
            },
            "type": "scatter3d"
           }
          ],
          "scattercarpet": [
           {
            "marker": {
             "colorbar": {
              "outlinewidth": 0,
              "ticks": ""
             }
            },
            "type": "scattercarpet"
           }
          ],
          "scattergeo": [
           {
            "marker": {
             "colorbar": {
              "outlinewidth": 0,
              "ticks": ""
             }
            },
            "type": "scattergeo"
           }
          ],
          "scattergl": [
           {
            "marker": {
             "colorbar": {
              "outlinewidth": 0,
              "ticks": ""
             }
            },
            "type": "scattergl"
           }
          ],
          "scattermapbox": [
           {
            "marker": {
             "colorbar": {
              "outlinewidth": 0,
              "ticks": ""
             }
            },
            "type": "scattermapbox"
           }
          ],
          "scatterpolar": [
           {
            "marker": {
             "colorbar": {
              "outlinewidth": 0,
              "ticks": ""
             }
            },
            "type": "scatterpolar"
           }
          ],
          "scatterpolargl": [
           {
            "marker": {
             "colorbar": {
              "outlinewidth": 0,
              "ticks": ""
             }
            },
            "type": "scatterpolargl"
           }
          ],
          "scatterternary": [
           {
            "marker": {
             "colorbar": {
              "outlinewidth": 0,
              "ticks": ""
             }
            },
            "type": "scatterternary"
           }
          ],
          "surface": [
           {
            "colorbar": {
             "outlinewidth": 0,
             "ticks": ""
            },
            "colorscale": [
             [
              0,
              "#0d0887"
             ],
             [
              0.1111111111111111,
              "#46039f"
             ],
             [
              0.2222222222222222,
              "#7201a8"
             ],
             [
              0.3333333333333333,
              "#9c179e"
             ],
             [
              0.4444444444444444,
              "#bd3786"
             ],
             [
              0.5555555555555556,
              "#d8576b"
             ],
             [
              0.6666666666666666,
              "#ed7953"
             ],
             [
              0.7777777777777778,
              "#fb9f3a"
             ],
             [
              0.8888888888888888,
              "#fdca26"
             ],
             [
              1,
              "#f0f921"
             ]
            ],
            "type": "surface"
           }
          ],
          "table": [
           {
            "cells": {
             "fill": {
              "color": "#EBF0F8"
             },
             "line": {
              "color": "white"
             }
            },
            "header": {
             "fill": {
              "color": "#C8D4E3"
             },
             "line": {
              "color": "white"
             }
            },
            "type": "table"
           }
          ]
         },
         "layout": {
          "annotationdefaults": {
           "arrowcolor": "#2a3f5f",
           "arrowhead": 0,
           "arrowwidth": 1
          },
          "autotypenumbers": "strict",
          "coloraxis": {
           "colorbar": {
            "outlinewidth": 0,
            "ticks": ""
           }
          },
          "colorscale": {
           "diverging": [
            [
             0,
             "#8e0152"
            ],
            [
             0.1,
             "#c51b7d"
            ],
            [
             0.2,
             "#de77ae"
            ],
            [
             0.3,
             "#f1b6da"
            ],
            [
             0.4,
             "#fde0ef"
            ],
            [
             0.5,
             "#f7f7f7"
            ],
            [
             0.6,
             "#e6f5d0"
            ],
            [
             0.7,
             "#b8e186"
            ],
            [
             0.8,
             "#7fbc41"
            ],
            [
             0.9,
             "#4d9221"
            ],
            [
             1,
             "#276419"
            ]
           ],
           "sequential": [
            [
             0,
             "#0d0887"
            ],
            [
             0.1111111111111111,
             "#46039f"
            ],
            [
             0.2222222222222222,
             "#7201a8"
            ],
            [
             0.3333333333333333,
             "#9c179e"
            ],
            [
             0.4444444444444444,
             "#bd3786"
            ],
            [
             0.5555555555555556,
             "#d8576b"
            ],
            [
             0.6666666666666666,
             "#ed7953"
            ],
            [
             0.7777777777777778,
             "#fb9f3a"
            ],
            [
             0.8888888888888888,
             "#fdca26"
            ],
            [
             1,
             "#f0f921"
            ]
           ],
           "sequentialminus": [
            [
             0,
             "#0d0887"
            ],
            [
             0.1111111111111111,
             "#46039f"
            ],
            [
             0.2222222222222222,
             "#7201a8"
            ],
            [
             0.3333333333333333,
             "#9c179e"
            ],
            [
             0.4444444444444444,
             "#bd3786"
            ],
            [
             0.5555555555555556,
             "#d8576b"
            ],
            [
             0.6666666666666666,
             "#ed7953"
            ],
            [
             0.7777777777777778,
             "#fb9f3a"
            ],
            [
             0.8888888888888888,
             "#fdca26"
            ],
            [
             1,
             "#f0f921"
            ]
           ]
          },
          "colorway": [
           "#636efa",
           "#EF553B",
           "#00cc96",
           "#ab63fa",
           "#FFA15A",
           "#19d3f3",
           "#FF6692",
           "#B6E880",
           "#FF97FF",
           "#FECB52"
          ],
          "font": {
           "color": "#2a3f5f"
          },
          "geo": {
           "bgcolor": "white",
           "lakecolor": "white",
           "landcolor": "#E5ECF6",
           "showlakes": true,
           "showland": true,
           "subunitcolor": "white"
          },
          "hoverlabel": {
           "align": "left"
          },
          "hovermode": "closest",
          "mapbox": {
           "style": "light"
          },
          "paper_bgcolor": "white",
          "plot_bgcolor": "#E5ECF6",
          "polar": {
           "angularaxis": {
            "gridcolor": "white",
            "linecolor": "white",
            "ticks": ""
           },
           "bgcolor": "#E5ECF6",
           "radialaxis": {
            "gridcolor": "white",
            "linecolor": "white",
            "ticks": ""
           }
          },
          "scene": {
           "xaxis": {
            "backgroundcolor": "#E5ECF6",
            "gridcolor": "white",
            "gridwidth": 2,
            "linecolor": "white",
            "showbackground": true,
            "ticks": "",
            "zerolinecolor": "white"
           },
           "yaxis": {
            "backgroundcolor": "#E5ECF6",
            "gridcolor": "white",
            "gridwidth": 2,
            "linecolor": "white",
            "showbackground": true,
            "ticks": "",
            "zerolinecolor": "white"
           },
           "zaxis": {
            "backgroundcolor": "#E5ECF6",
            "gridcolor": "white",
            "gridwidth": 2,
            "linecolor": "white",
            "showbackground": true,
            "ticks": "",
            "zerolinecolor": "white"
           }
          },
          "shapedefaults": {
           "line": {
            "color": "#2a3f5f"
           }
          },
          "ternary": {
           "aaxis": {
            "gridcolor": "white",
            "linecolor": "white",
            "ticks": ""
           },
           "baxis": {
            "gridcolor": "white",
            "linecolor": "white",
            "ticks": ""
           },
           "bgcolor": "#E5ECF6",
           "caxis": {
            "gridcolor": "white",
            "linecolor": "white",
            "ticks": ""
           }
          },
          "title": {
           "x": 0.05
          },
          "xaxis": {
           "automargin": true,
           "gridcolor": "white",
           "linecolor": "white",
           "ticks": "",
           "title": {
            "standoff": 15
           },
           "zerolinecolor": "white",
           "zerolinewidth": 2
          },
          "yaxis": {
           "automargin": true,
           "gridcolor": "white",
           "linecolor": "white",
           "ticks": "",
           "title": {
            "standoff": 15
           },
           "zerolinecolor": "white",
           "zerolinewidth": 2
          }
         }
        },
        "xaxis": {
         "anchor": "y",
         "domain": [
          0,
          1
         ],
         "title": {
          "text": "Paperback Discount Ratio"
         }
        },
        "yaxis": {
         "anchor": "x",
         "domain": [
          0,
          1
         ],
         "title": {
          "text": "Hardcover Discount Ratio"
         }
        }
       }
      }
     },
     "metadata": {},
     "output_type": "display_data"
    }
   ],
   "source": [
    "fig = px.scatter(book_data_valid, x=\"Paperback Discount Ratio\", y=\"Hardcover Discount Ratio\", trendline=\"ols\")\n",
    "fig.show()"
   ]
  },
  {
   "cell_type": "code",
   "execution_count": 39,
   "metadata": {},
   "outputs": [
    {
     "data": {
      "application/vnd.plotly.v1+json": {
       "config": {
        "plotlyServerURL": "https://plot.ly"
       },
       "data": [
        {
         "hovertemplate": "all_rank_list=%{x}<br>Paperback Discount Ratio=%{y}<extra></extra>",
         "legendgroup": "",
         "marker": {
          "color": "#636efa",
          "symbol": "circle"
         },
         "mode": "markers",
         "name": "",
         "orientation": "v",
         "showlegend": false,
         "type": "scatter",
         "x": [
          4121,
          98,
          567,
          32699,
          36508,
          33520,
          1349,
          869747,
          461,
          2094,
          25816,
          371050,
          29,
          144948,
          null,
          357,
          58844,
          834,
          14301,
          764,
          14184,
          42496,
          21122,
          820,
          52707,
          30762,
          3823,
          20494,
          1355012,
          3417,
          400,
          7967,
          512,
          75,
          1204,
          22748,
          50555,
          6312,
          771,
          6147,
          1249,
          43285,
          null,
          3823,
          20494,
          1355012,
          432,
          11637,
          16985,
          19064,
          5548,
          4850,
          84707,
          9869,
          24279,
          11696,
          500,
          21122,
          820,
          52707,
          30762,
          2,
          17,
          25,
          6138,
          1232,
          15995,
          4927,
          2611,
          688,
          25533,
          2321,
          75,
          1204,
          22748,
          50555,
          432,
          11637,
          16985,
          19064,
          432,
          11637,
          16985,
          19064,
          2353,
          91,
          548,
          1706465,
          101336,
          17307,
          388,
          137499,
          2611,
          688,
          25533,
          2321,
          3823,
          20494,
          1355012,
          104,
          937,
          1362,
          104,
          937,
          1362,
          9869,
          24279,
          11696,
          500,
          63923,
          9869,
          24279,
          11696,
          500,
          432,
          11637,
          16985,
          19064,
          432,
          11637,
          16985,
          19064,
          104,
          937,
          1362,
          28122,
          1774,
          19161,
          1505,
          97,
          230,
          13298,
          63923,
          27520,
          19107,
          729,
          9041,
          36508,
          33520,
          1349,
          869747,
          28122,
          1774,
          19161,
          1505,
          null,
          357,
          58844,
          834,
          12725,
          614,
          11409,
          533903,
          374869,
          193,
          379625,
          366688,
          374869,
          193,
          379625,
          366688,
          374869,
          193,
          379625,
          366688,
          374869,
          193,
          379625,
          366688,
          96979,
          135438,
          357033,
          511242,
          27520,
          19107,
          729,
          9041,
          27520,
          19107,
          729,
          9041,
          15142,
          833,
          1618,
          23497,
          96979,
          135438,
          357033,
          511242,
          14219,
          1127,
          9068,
          22853,
          24104,
          1820,
          41389,
          481,
          63923,
          2611,
          688,
          25533,
          2321,
          374869,
          193,
          379625,
          366688,
          374869,
          193,
          379625,
          366688,
          374869,
          193,
          379625,
          366688,
          374869,
          193,
          379625,
          366688,
          461,
          2094,
          25816,
          null,
          357,
          58844,
          834,
          9285,
          15877,
          9285,
          15877,
          80092,
          11714,
          770212,
          7314478,
          80092,
          11714,
          770212,
          7314478,
          5113,
          18023,
          1003,
          204172,
          9869,
          24279,
          11696,
          500,
          2611,
          688,
          25533,
          2321,
          563,
          11776,
          122510,
          27520,
          19107,
          729,
          9041
         ],
         "xaxis": "x",
         "y": [
          0.5655263157894737,
          0.5655263157894737,
          0.5655263157894737,
          0.5655263157894737,
          0.541875,
          0.541875,
          0.541875,
          0.541875,
          null,
          null,
          null,
          null,
          null,
          null,
          0.6478947368421053,
          0.6478947368421053,
          0.6478947368421053,
          0.6478947368421053,
          null,
          null,
          null,
          null,
          0.555,
          0.555,
          0.555,
          0.555,
          null,
          null,
          null,
          0.7252047315741583,
          0.7252047315741583,
          0.7252047315741583,
          0.7252047315741583,
          0.9323131253678635,
          0.9323131253678635,
          0.9323131253678635,
          0.9323131253678635,
          null,
          null,
          null,
          null,
          null,
          null,
          null,
          null,
          null,
          null,
          null,
          null,
          null,
          null,
          null,
          null,
          0.7498610339077266,
          0.7498610339077266,
          0.7498610339077266,
          0.7498610339077266,
          0.555,
          0.555,
          0.555,
          0.555,
          0.7337409672040023,
          0.7337409672040023,
          0.7337409672040023,
          0.67983991995998,
          0.67983991995998,
          0.67983991995998,
          0.67983991995998,
          0.5650342285413377,
          0.5650342285413377,
          0.5650342285413377,
          0.5650342285413377,
          0.9323131253678635,
          0.9323131253678635,
          0.9323131253678635,
          0.9323131253678635,
          null,
          null,
          null,
          null,
          null,
          null,
          null,
          null,
          null,
          null,
          null,
          null,
          null,
          null,
          null,
          null,
          0.5650342285413377,
          0.5650342285413377,
          0.5650342285413377,
          0.5650342285413377,
          null,
          null,
          null,
          null,
          null,
          null,
          null,
          null,
          null,
          0.7498610339077266,
          0.7498610339077266,
          0.7498610339077266,
          0.7498610339077266,
          null,
          0.7498610339077266,
          0.7498610339077266,
          0.7498610339077266,
          0.7498610339077266,
          null,
          null,
          null,
          null,
          null,
          null,
          null,
          null,
          null,
          null,
          null,
          0.7497497497497497,
          0.7497497497497497,
          0.7497497497497497,
          0.7497497497497497,
          null,
          null,
          null,
          null,
          null,
          null,
          null,
          null,
          0.541875,
          0.541875,
          0.541875,
          0.541875,
          0.7497497497497497,
          0.7497497497497497,
          0.7497497497497497,
          0.7497497497497497,
          0.6478947368421053,
          0.6478947368421053,
          0.6478947368421053,
          0.6478947368421053,
          null,
          null,
          null,
          null,
          null,
          null,
          null,
          null,
          null,
          null,
          null,
          null,
          null,
          null,
          null,
          null,
          null,
          null,
          null,
          null,
          0.6148074037018509,
          0.6148074037018509,
          0.6148074037018509,
          0.6148074037018509,
          null,
          null,
          null,
          null,
          null,
          null,
          null,
          null,
          0.5833333333333334,
          0.5833333333333334,
          0.5833333333333334,
          0.5833333333333334,
          0.6148074037018509,
          0.6148074037018509,
          0.6148074037018509,
          0.6148074037018509,
          0.6230191826522101,
          0.6230191826522101,
          0.6230191826522101,
          0.6230191826522101,
          0.6218020022246941,
          0.6218020022246941,
          0.6218020022246941,
          0.6218020022246941,
          null,
          0.5650342285413377,
          0.5650342285413377,
          0.5650342285413377,
          0.5650342285413377,
          null,
          null,
          null,
          null,
          null,
          null,
          null,
          null,
          null,
          null,
          null,
          null,
          null,
          null,
          null,
          null,
          null,
          null,
          null,
          0.6478947368421053,
          0.6478947368421053,
          0.6478947368421053,
          0.6478947368421053,
          null,
          null,
          null,
          null,
          null,
          null,
          null,
          null,
          null,
          null,
          null,
          null,
          0.740644683216006,
          0.740644683216006,
          0.740644683216006,
          0.740644683216006,
          0.7498610339077266,
          0.7498610339077266,
          0.7498610339077266,
          0.7498610339077266,
          0.5650342285413377,
          0.5650342285413377,
          0.5650342285413377,
          0.5650342285413377,
          0.7710417892878164,
          0.7710417892878164,
          0.7710417892878164,
          null,
          null,
          null,
          null
         ],
         "yaxis": "y"
        },
        {
         "hovertemplate": "<b>OLS trendline</b><br>Paperback Discount Ratio = -1.41255e-07 * all_rank_list + 0.673798<br>R<sup>2</sup>=0.033024<br><br>all_rank_list=%{x}<br>Paperback Discount Ratio=%{y} <b>(trend)</b><extra></extra>",
         "legendgroup": "",
         "marker": {
          "color": "#636efa",
          "symbol": "circle"
         },
         "mode": "lines",
         "name": "",
         "showlegend": false,
         "type": "scatter",
         "x": [
          2,
          17,
          25,
          75,
          75,
          98,
          357,
          357,
          357,
          400,
          481,
          500,
          500,
          500,
          500,
          512,
          563,
          567,
          688,
          688,
          688,
          688,
          820,
          820,
          833,
          834,
          834,
          834,
          1003,
          1127,
          1204,
          1204,
          1232,
          1349,
          1349,
          1505,
          1505,
          1618,
          1774,
          1774,
          1820,
          2321,
          2321,
          2321,
          2321,
          2611,
          2611,
          2611,
          2611,
          3417,
          4121,
          4927,
          5113,
          6138,
          7967,
          9068,
          9869,
          9869,
          9869,
          9869,
          11696,
          11696,
          11696,
          11696,
          11776,
          14219,
          15142,
          15995,
          18023,
          19161,
          19161,
          21122,
          21122,
          22748,
          22748,
          22853,
          23497,
          24104,
          24279,
          24279,
          24279,
          24279,
          25533,
          25533,
          25533,
          25533,
          28122,
          28122,
          30762,
          30762,
          32699,
          33520,
          33520,
          36508,
          36508,
          41389,
          50555,
          50555,
          52707,
          52707,
          58844,
          58844,
          58844,
          96979,
          96979,
          122510,
          135438,
          135438,
          204172,
          357033,
          357033,
          511242,
          511242,
          869747,
          869747
         ],
         "xaxis": "x",
         "y": [
          0.6737975814180587,
          0.6737954625902999,
          0.6737943325488285,
          0.6737872697896322,
          0.6737872697896322,
          0.673784020920402,
          0.6737474358277656,
          0.6737474358277656,
          0.6737474358277656,
          0.6737413618548569,
          0.673729920184959,
          0.6737272363364645,
          0.6737272363364645,
          0.6737272363364645,
          0.6737272363364645,
          0.6737255412742573,
          0.6737183372598772,
          0.6737177722391415,
          0.6737006803618867,
          0.6737006803618867,
          0.6737006803618867,
          0.6737006803618867,
          0.6736820346776087,
          0.6736820346776087,
          0.6736801983602176,
          0.6736800571050338,
          0.6736800571050338,
          0.6736800571050338,
          0.6736561849789506,
          0.673638669336144,
          0.6736277926869818,
          0.6736277926869818,
          0.673623837541832,
          0.6736073106853128,
          0.6736073106853128,
          0.6735852748766207,
          0.6735852748766207,
          0.6735693130408372,
          0.673547277232145,
          0.673547277232145,
          0.6735407794936845,
          0.6734700106465384,
          0.6734700106465384,
          0.6734700106465384,
          0.6734700106465384,
          0.6734290466432005,
          0.6734290466432005,
          0.6734290466432005,
          0.6734290466432005,
          0.6733151949649576,
          0.673215751315475,
          0.673101899637232,
          0.6730756261730221,
          0.6729308396094998,
          0.6726724838781024,
          0.672516961920602,
          0.6724038165182786,
          0.6724038165182786,
          0.6724038165182786,
          0.6724038165182786,
          0.6721457432972491,
          0.6721457432972491,
          0.6721457432972491,
          0.6721457432972491,
          0.6721344428825352,
          0.6717893564682084,
          0.6716589779334463,
          0.671538487261559,
          0.6712520217485607,
          0.671091273349255,
          0.671091273349255,
          0.6708142719335796,
          0.6708142719335796,
          0.6705845910045188,
          0.6705845910045188,
          0.6705697592102068,
          0.6704787908717597,
          0.6703930489751176,
          0.6703683293179309,
          0.6703683293179309,
          0.6703683293179309,
          0.6703683293179309,
          0.67019119531729,
          0.67019119531729,
          0.67019119531729,
          0.67019119531729,
          0.6698254856461102,
          0.6698254856461102,
          0.6694525719605503,
          0.6694525719605503,
          0.6691789606692892,
          0.6690629901632874,
          0.6690629901632874,
          0.6686409196737219,
          0.6686409196737219,
          0.6679514531209879,
          0.6666567081051387,
          0.6666567081051387,
          0.6663527269493338,
          0.6663527269493338,
          0.665485843885591,
          0.665485843885591,
          0.665485843885591,
          0.6600990774466416,
          0.6600990774466416,
          0.6564926913458728,
          0.6546665443281008,
          0.6546665443281008,
          0.6449575105162549,
          0.6233651018464179,
          0.6233651018464179,
          0.601582281188651,
          0.601582281188651,
          0.5509415914759059,
          0.5509415914759059
         ],
         "yaxis": "y"
        }
       ],
       "layout": {
        "legend": {
         "tracegroupgap": 0
        },
        "margin": {
         "t": 60
        },
        "template": {
         "data": {
          "bar": [
           {
            "error_x": {
             "color": "#2a3f5f"
            },
            "error_y": {
             "color": "#2a3f5f"
            },
            "marker": {
             "line": {
              "color": "#E5ECF6",
              "width": 0.5
             },
             "pattern": {
              "fillmode": "overlay",
              "size": 10,
              "solidity": 0.2
             }
            },
            "type": "bar"
           }
          ],
          "barpolar": [
           {
            "marker": {
             "line": {
              "color": "#E5ECF6",
              "width": 0.5
             },
             "pattern": {
              "fillmode": "overlay",
              "size": 10,
              "solidity": 0.2
             }
            },
            "type": "barpolar"
           }
          ],
          "carpet": [
           {
            "aaxis": {
             "endlinecolor": "#2a3f5f",
             "gridcolor": "white",
             "linecolor": "white",
             "minorgridcolor": "white",
             "startlinecolor": "#2a3f5f"
            },
            "baxis": {
             "endlinecolor": "#2a3f5f",
             "gridcolor": "white",
             "linecolor": "white",
             "minorgridcolor": "white",
             "startlinecolor": "#2a3f5f"
            },
            "type": "carpet"
           }
          ],
          "choropleth": [
           {
            "colorbar": {
             "outlinewidth": 0,
             "ticks": ""
            },
            "type": "choropleth"
           }
          ],
          "contour": [
           {
            "colorbar": {
             "outlinewidth": 0,
             "ticks": ""
            },
            "colorscale": [
             [
              0,
              "#0d0887"
             ],
             [
              0.1111111111111111,
              "#46039f"
             ],
             [
              0.2222222222222222,
              "#7201a8"
             ],
             [
              0.3333333333333333,
              "#9c179e"
             ],
             [
              0.4444444444444444,
              "#bd3786"
             ],
             [
              0.5555555555555556,
              "#d8576b"
             ],
             [
              0.6666666666666666,
              "#ed7953"
             ],
             [
              0.7777777777777778,
              "#fb9f3a"
             ],
             [
              0.8888888888888888,
              "#fdca26"
             ],
             [
              1,
              "#f0f921"
             ]
            ],
            "type": "contour"
           }
          ],
          "contourcarpet": [
           {
            "colorbar": {
             "outlinewidth": 0,
             "ticks": ""
            },
            "type": "contourcarpet"
           }
          ],
          "heatmap": [
           {
            "colorbar": {
             "outlinewidth": 0,
             "ticks": ""
            },
            "colorscale": [
             [
              0,
              "#0d0887"
             ],
             [
              0.1111111111111111,
              "#46039f"
             ],
             [
              0.2222222222222222,
              "#7201a8"
             ],
             [
              0.3333333333333333,
              "#9c179e"
             ],
             [
              0.4444444444444444,
              "#bd3786"
             ],
             [
              0.5555555555555556,
              "#d8576b"
             ],
             [
              0.6666666666666666,
              "#ed7953"
             ],
             [
              0.7777777777777778,
              "#fb9f3a"
             ],
             [
              0.8888888888888888,
              "#fdca26"
             ],
             [
              1,
              "#f0f921"
             ]
            ],
            "type": "heatmap"
           }
          ],
          "heatmapgl": [
           {
            "colorbar": {
             "outlinewidth": 0,
             "ticks": ""
            },
            "colorscale": [
             [
              0,
              "#0d0887"
             ],
             [
              0.1111111111111111,
              "#46039f"
             ],
             [
              0.2222222222222222,
              "#7201a8"
             ],
             [
              0.3333333333333333,
              "#9c179e"
             ],
             [
              0.4444444444444444,
              "#bd3786"
             ],
             [
              0.5555555555555556,
              "#d8576b"
             ],
             [
              0.6666666666666666,
              "#ed7953"
             ],
             [
              0.7777777777777778,
              "#fb9f3a"
             ],
             [
              0.8888888888888888,
              "#fdca26"
             ],
             [
              1,
              "#f0f921"
             ]
            ],
            "type": "heatmapgl"
           }
          ],
          "histogram": [
           {
            "marker": {
             "pattern": {
              "fillmode": "overlay",
              "size": 10,
              "solidity": 0.2
             }
            },
            "type": "histogram"
           }
          ],
          "histogram2d": [
           {
            "colorbar": {
             "outlinewidth": 0,
             "ticks": ""
            },
            "colorscale": [
             [
              0,
              "#0d0887"
             ],
             [
              0.1111111111111111,
              "#46039f"
             ],
             [
              0.2222222222222222,
              "#7201a8"
             ],
             [
              0.3333333333333333,
              "#9c179e"
             ],
             [
              0.4444444444444444,
              "#bd3786"
             ],
             [
              0.5555555555555556,
              "#d8576b"
             ],
             [
              0.6666666666666666,
              "#ed7953"
             ],
             [
              0.7777777777777778,
              "#fb9f3a"
             ],
             [
              0.8888888888888888,
              "#fdca26"
             ],
             [
              1,
              "#f0f921"
             ]
            ],
            "type": "histogram2d"
           }
          ],
          "histogram2dcontour": [
           {
            "colorbar": {
             "outlinewidth": 0,
             "ticks": ""
            },
            "colorscale": [
             [
              0,
              "#0d0887"
             ],
             [
              0.1111111111111111,
              "#46039f"
             ],
             [
              0.2222222222222222,
              "#7201a8"
             ],
             [
              0.3333333333333333,
              "#9c179e"
             ],
             [
              0.4444444444444444,
              "#bd3786"
             ],
             [
              0.5555555555555556,
              "#d8576b"
             ],
             [
              0.6666666666666666,
              "#ed7953"
             ],
             [
              0.7777777777777778,
              "#fb9f3a"
             ],
             [
              0.8888888888888888,
              "#fdca26"
             ],
             [
              1,
              "#f0f921"
             ]
            ],
            "type": "histogram2dcontour"
           }
          ],
          "mesh3d": [
           {
            "colorbar": {
             "outlinewidth": 0,
             "ticks": ""
            },
            "type": "mesh3d"
           }
          ],
          "parcoords": [
           {
            "line": {
             "colorbar": {
              "outlinewidth": 0,
              "ticks": ""
             }
            },
            "type": "parcoords"
           }
          ],
          "pie": [
           {
            "automargin": true,
            "type": "pie"
           }
          ],
          "scatter": [
           {
            "fillpattern": {
             "fillmode": "overlay",
             "size": 10,
             "solidity": 0.2
            },
            "type": "scatter"
           }
          ],
          "scatter3d": [
           {
            "line": {
             "colorbar": {
              "outlinewidth": 0,
              "ticks": ""
             }
            },
            "marker": {
             "colorbar": {
              "outlinewidth": 0,
              "ticks": ""
             }
            },
            "type": "scatter3d"
           }
          ],
          "scattercarpet": [
           {
            "marker": {
             "colorbar": {
              "outlinewidth": 0,
              "ticks": ""
             }
            },
            "type": "scattercarpet"
           }
          ],
          "scattergeo": [
           {
            "marker": {
             "colorbar": {
              "outlinewidth": 0,
              "ticks": ""
             }
            },
            "type": "scattergeo"
           }
          ],
          "scattergl": [
           {
            "marker": {
             "colorbar": {
              "outlinewidth": 0,
              "ticks": ""
             }
            },
            "type": "scattergl"
           }
          ],
          "scattermapbox": [
           {
            "marker": {
             "colorbar": {
              "outlinewidth": 0,
              "ticks": ""
             }
            },
            "type": "scattermapbox"
           }
          ],
          "scatterpolar": [
           {
            "marker": {
             "colorbar": {
              "outlinewidth": 0,
              "ticks": ""
             }
            },
            "type": "scatterpolar"
           }
          ],
          "scatterpolargl": [
           {
            "marker": {
             "colorbar": {
              "outlinewidth": 0,
              "ticks": ""
             }
            },
            "type": "scatterpolargl"
           }
          ],
          "scatterternary": [
           {
            "marker": {
             "colorbar": {
              "outlinewidth": 0,
              "ticks": ""
             }
            },
            "type": "scatterternary"
           }
          ],
          "surface": [
           {
            "colorbar": {
             "outlinewidth": 0,
             "ticks": ""
            },
            "colorscale": [
             [
              0,
              "#0d0887"
             ],
             [
              0.1111111111111111,
              "#46039f"
             ],
             [
              0.2222222222222222,
              "#7201a8"
             ],
             [
              0.3333333333333333,
              "#9c179e"
             ],
             [
              0.4444444444444444,
              "#bd3786"
             ],
             [
              0.5555555555555556,
              "#d8576b"
             ],
             [
              0.6666666666666666,
              "#ed7953"
             ],
             [
              0.7777777777777778,
              "#fb9f3a"
             ],
             [
              0.8888888888888888,
              "#fdca26"
             ],
             [
              1,
              "#f0f921"
             ]
            ],
            "type": "surface"
           }
          ],
          "table": [
           {
            "cells": {
             "fill": {
              "color": "#EBF0F8"
             },
             "line": {
              "color": "white"
             }
            },
            "header": {
             "fill": {
              "color": "#C8D4E3"
             },
             "line": {
              "color": "white"
             }
            },
            "type": "table"
           }
          ]
         },
         "layout": {
          "annotationdefaults": {
           "arrowcolor": "#2a3f5f",
           "arrowhead": 0,
           "arrowwidth": 1
          },
          "autotypenumbers": "strict",
          "coloraxis": {
           "colorbar": {
            "outlinewidth": 0,
            "ticks": ""
           }
          },
          "colorscale": {
           "diverging": [
            [
             0,
             "#8e0152"
            ],
            [
             0.1,
             "#c51b7d"
            ],
            [
             0.2,
             "#de77ae"
            ],
            [
             0.3,
             "#f1b6da"
            ],
            [
             0.4,
             "#fde0ef"
            ],
            [
             0.5,
             "#f7f7f7"
            ],
            [
             0.6,
             "#e6f5d0"
            ],
            [
             0.7,
             "#b8e186"
            ],
            [
             0.8,
             "#7fbc41"
            ],
            [
             0.9,
             "#4d9221"
            ],
            [
             1,
             "#276419"
            ]
           ],
           "sequential": [
            [
             0,
             "#0d0887"
            ],
            [
             0.1111111111111111,
             "#46039f"
            ],
            [
             0.2222222222222222,
             "#7201a8"
            ],
            [
             0.3333333333333333,
             "#9c179e"
            ],
            [
             0.4444444444444444,
             "#bd3786"
            ],
            [
             0.5555555555555556,
             "#d8576b"
            ],
            [
             0.6666666666666666,
             "#ed7953"
            ],
            [
             0.7777777777777778,
             "#fb9f3a"
            ],
            [
             0.8888888888888888,
             "#fdca26"
            ],
            [
             1,
             "#f0f921"
            ]
           ],
           "sequentialminus": [
            [
             0,
             "#0d0887"
            ],
            [
             0.1111111111111111,
             "#46039f"
            ],
            [
             0.2222222222222222,
             "#7201a8"
            ],
            [
             0.3333333333333333,
             "#9c179e"
            ],
            [
             0.4444444444444444,
             "#bd3786"
            ],
            [
             0.5555555555555556,
             "#d8576b"
            ],
            [
             0.6666666666666666,
             "#ed7953"
            ],
            [
             0.7777777777777778,
             "#fb9f3a"
            ],
            [
             0.8888888888888888,
             "#fdca26"
            ],
            [
             1,
             "#f0f921"
            ]
           ]
          },
          "colorway": [
           "#636efa",
           "#EF553B",
           "#00cc96",
           "#ab63fa",
           "#FFA15A",
           "#19d3f3",
           "#FF6692",
           "#B6E880",
           "#FF97FF",
           "#FECB52"
          ],
          "font": {
           "color": "#2a3f5f"
          },
          "geo": {
           "bgcolor": "white",
           "lakecolor": "white",
           "landcolor": "#E5ECF6",
           "showlakes": true,
           "showland": true,
           "subunitcolor": "white"
          },
          "hoverlabel": {
           "align": "left"
          },
          "hovermode": "closest",
          "mapbox": {
           "style": "light"
          },
          "paper_bgcolor": "white",
          "plot_bgcolor": "#E5ECF6",
          "polar": {
           "angularaxis": {
            "gridcolor": "white",
            "linecolor": "white",
            "ticks": ""
           },
           "bgcolor": "#E5ECF6",
           "radialaxis": {
            "gridcolor": "white",
            "linecolor": "white",
            "ticks": ""
           }
          },
          "scene": {
           "xaxis": {
            "backgroundcolor": "#E5ECF6",
            "gridcolor": "white",
            "gridwidth": 2,
            "linecolor": "white",
            "showbackground": true,
            "ticks": "",
            "zerolinecolor": "white"
           },
           "yaxis": {
            "backgroundcolor": "#E5ECF6",
            "gridcolor": "white",
            "gridwidth": 2,
            "linecolor": "white",
            "showbackground": true,
            "ticks": "",
            "zerolinecolor": "white"
           },
           "zaxis": {
            "backgroundcolor": "#E5ECF6",
            "gridcolor": "white",
            "gridwidth": 2,
            "linecolor": "white",
            "showbackground": true,
            "ticks": "",
            "zerolinecolor": "white"
           }
          },
          "shapedefaults": {
           "line": {
            "color": "#2a3f5f"
           }
          },
          "ternary": {
           "aaxis": {
            "gridcolor": "white",
            "linecolor": "white",
            "ticks": ""
           },
           "baxis": {
            "gridcolor": "white",
            "linecolor": "white",
            "ticks": ""
           },
           "bgcolor": "#E5ECF6",
           "caxis": {
            "gridcolor": "white",
            "linecolor": "white",
            "ticks": ""
           }
          },
          "title": {
           "x": 0.05
          },
          "xaxis": {
           "automargin": true,
           "gridcolor": "white",
           "linecolor": "white",
           "ticks": "",
           "title": {
            "standoff": 15
           },
           "zerolinecolor": "white",
           "zerolinewidth": 2
          },
          "yaxis": {
           "automargin": true,
           "gridcolor": "white",
           "linecolor": "white",
           "ticks": "",
           "title": {
            "standoff": 15
           },
           "zerolinecolor": "white",
           "zerolinewidth": 2
          }
         }
        },
        "xaxis": {
         "anchor": "y",
         "domain": [
          0,
          1
         ],
         "title": {
          "text": "all_rank_list"
         }
        },
        "yaxis": {
         "anchor": "x",
         "domain": [
          0,
          1
         ],
         "title": {
          "text": "Paperback Discount Ratio"
         }
        }
       }
      }
     },
     "metadata": {},
     "output_type": "display_data"
    }
   ],
   "source": [
    "fig = px.scatter(book_data_valid, x=\"all_rank_list\", y=\"Paperback Discount Ratio\", trendline=\"ols\")\n",
    "fig.show()"
   ]
  },
  {
   "cell_type": "code",
   "execution_count": 40,
   "metadata": {},
   "outputs": [
    {
     "data": {
      "application/vnd.plotly.v1+json": {
       "config": {
        "plotlyServerURL": "https://plot.ly"
       },
       "data": [
        {
         "hovertemplate": "all_rank_list=%{x}<br>Hardcover Discount Ratio=%{y}<extra></extra>",
         "legendgroup": "",
         "marker": {
          "color": "#636efa",
          "symbol": "circle"
         },
         "mode": "markers",
         "name": "",
         "orientation": "v",
         "showlegend": false,
         "type": "scatter",
         "x": [
          4121,
          98,
          567,
          32699,
          36508,
          33520,
          1349,
          869747,
          461,
          2094,
          25816,
          371050,
          29,
          144948,
          null,
          357,
          58844,
          834,
          14301,
          764,
          14184,
          42496,
          21122,
          820,
          52707,
          30762,
          3823,
          20494,
          1355012,
          3417,
          400,
          7967,
          512,
          75,
          1204,
          22748,
          50555,
          6312,
          771,
          6147,
          1249,
          43285,
          null,
          3823,
          20494,
          1355012,
          432,
          11637,
          16985,
          19064,
          5548,
          4850,
          84707,
          9869,
          24279,
          11696,
          500,
          21122,
          820,
          52707,
          30762,
          2,
          17,
          25,
          6138,
          1232,
          15995,
          4927,
          2611,
          688,
          25533,
          2321,
          75,
          1204,
          22748,
          50555,
          432,
          11637,
          16985,
          19064,
          432,
          11637,
          16985,
          19064,
          2353,
          91,
          548,
          1706465,
          101336,
          17307,
          388,
          137499,
          2611,
          688,
          25533,
          2321,
          3823,
          20494,
          1355012,
          104,
          937,
          1362,
          104,
          937,
          1362,
          9869,
          24279,
          11696,
          500,
          63923,
          9869,
          24279,
          11696,
          500,
          432,
          11637,
          16985,
          19064,
          432,
          11637,
          16985,
          19064,
          104,
          937,
          1362,
          28122,
          1774,
          19161,
          1505,
          97,
          230,
          13298,
          63923,
          27520,
          19107,
          729,
          9041,
          36508,
          33520,
          1349,
          869747,
          28122,
          1774,
          19161,
          1505,
          null,
          357,
          58844,
          834,
          12725,
          614,
          11409,
          533903,
          374869,
          193,
          379625,
          366688,
          374869,
          193,
          379625,
          366688,
          374869,
          193,
          379625,
          366688,
          374869,
          193,
          379625,
          366688,
          96979,
          135438,
          357033,
          511242,
          27520,
          19107,
          729,
          9041,
          27520,
          19107,
          729,
          9041,
          15142,
          833,
          1618,
          23497,
          96979,
          135438,
          357033,
          511242,
          14219,
          1127,
          9068,
          22853,
          24104,
          1820,
          41389,
          481,
          63923,
          2611,
          688,
          25533,
          2321,
          374869,
          193,
          379625,
          366688,
          374869,
          193,
          379625,
          366688,
          374869,
          193,
          379625,
          366688,
          374869,
          193,
          379625,
          366688,
          461,
          2094,
          25816,
          null,
          357,
          58844,
          834,
          9285,
          15877,
          9285,
          15877,
          80092,
          11714,
          770212,
          7314478,
          80092,
          11714,
          770212,
          7314478,
          5113,
          18023,
          1003,
          204172,
          9869,
          24279,
          11696,
          500,
          2611,
          688,
          25533,
          2321,
          563,
          11776,
          122510,
          27520,
          19107,
          729,
          9041
         ],
         "xaxis": "x",
         "y": [
          0.4083333333333333,
          0.4083333333333333,
          0.4083333333333333,
          0.4083333333333333,
          null,
          null,
          null,
          null,
          null,
          null,
          null,
          0.4537963507945851,
          0.4537963507945851,
          0.4537963507945851,
          null,
          null,
          null,
          null,
          0.6596,
          0.6596,
          0.6596,
          0.6596,
          0.5588888888888889,
          0.5588888888888889,
          0.5588888888888889,
          0.5588888888888889,
          null,
          null,
          null,
          0.5632816408204102,
          0.5632816408204102,
          0.5632816408204102,
          0.5632816408204102,
          0.9479791916766708,
          0.9479791916766708,
          0.9479791916766708,
          0.9479791916766708,
          0.5181727242414138,
          0.5181727242414138,
          null,
          null,
          null,
          null,
          null,
          null,
          null,
          0.782391195597799,
          0.782391195597799,
          0.782391195597799,
          0.782391195597799,
          0.9484692331009396,
          0.9484692331009396,
          0.9484692331009396,
          0.7599039615846338,
          0.7599039615846338,
          0.7599039615846338,
          0.7599039615846338,
          0.5588888888888889,
          0.5588888888888889,
          0.5588888888888889,
          0.5588888888888889,
          null,
          null,
          null,
          0.4983333333333333,
          0.4983333333333333,
          0.4983333333333333,
          0.4983333333333333,
          0.714,
          0.714,
          0.714,
          0.714,
          0.9479791916766708,
          0.9479791916766708,
          0.9479791916766708,
          0.9479791916766708,
          0.782391195597799,
          0.782391195597799,
          0.782391195597799,
          0.782391195597799,
          0.782391195597799,
          0.782391195597799,
          0.782391195597799,
          0.782391195597799,
          0.5657142857142857,
          0.5657142857142857,
          0.5657142857142857,
          0.5657142857142857,
          0.5225125069483046,
          0.5225125069483046,
          0.5225125069483046,
          0.5225125069483046,
          0.714,
          0.714,
          0.714,
          0.714,
          null,
          null,
          null,
          null,
          null,
          null,
          null,
          null,
          null,
          0.7599039615846338,
          0.7599039615846338,
          0.7599039615846338,
          0.7599039615846338,
          null,
          0.7599039615846338,
          0.7599039615846338,
          0.7599039615846338,
          0.7599039615846338,
          0.782391195597799,
          0.782391195597799,
          0.782391195597799,
          0.782391195597799,
          0.782391195597799,
          0.782391195597799,
          0.782391195597799,
          0.782391195597799,
          null,
          null,
          null,
          0.824912456228114,
          0.824912456228114,
          0.824912456228114,
          0.824912456228114,
          null,
          null,
          null,
          null,
          null,
          null,
          null,
          null,
          null,
          null,
          null,
          null,
          0.824912456228114,
          0.824912456228114,
          0.824912456228114,
          0.824912456228114,
          null,
          null,
          null,
          null,
          0.5906510851419032,
          0.5906510851419032,
          0.5906510851419032,
          0.5906510851419032,
          null,
          null,
          null,
          null,
          null,
          null,
          null,
          null,
          null,
          null,
          null,
          null,
          null,
          null,
          null,
          null,
          0.8086363636363636,
          0.8086363636363636,
          0.8086363636363636,
          0.8086363636363636,
          null,
          null,
          null,
          null,
          null,
          null,
          null,
          null,
          0.5246428571428571,
          0.5246428571428571,
          0.5246428571428571,
          0.5246428571428571,
          0.8086363636363636,
          0.8086363636363636,
          0.8086363636363636,
          0.8086363636363636,
          0.5947973986993498,
          0.5947973986993498,
          0.5947973986993498,
          0.5947973986993498,
          null,
          null,
          null,
          null,
          null,
          0.714,
          0.714,
          0.714,
          0.714,
          null,
          null,
          null,
          null,
          null,
          null,
          null,
          null,
          null,
          null,
          null,
          null,
          null,
          null,
          null,
          null,
          null,
          null,
          null,
          null,
          null,
          null,
          null,
          null,
          null,
          null,
          null,
          null,
          null,
          null,
          null,
          null,
          null,
          null,
          null,
          0.6543883583447022,
          0.6543883583447022,
          0.6543883583447022,
          0.6543883583447022,
          0.7599039615846338,
          0.7599039615846338,
          0.7599039615846338,
          0.7599039615846338,
          0.714,
          0.714,
          0.714,
          0.714,
          null,
          null,
          null,
          null,
          null,
          null,
          null
         ],
         "yaxis": "y"
        },
        {
         "hovertemplate": "<b>OLS trendline</b><br>Hardcover Discount Ratio = -4.26826e-08 * all_rank_list + 0.698614<br>R<sup>2</sup>=0.002872<br><br>all_rank_list=%{x}<br>Hardcover Discount Ratio=%{y} <b>(trend)</b><extra></extra>",
         "legendgroup": "",
         "marker": {
          "color": "#636efa",
          "symbol": "circle"
         },
         "mode": "lines",
         "name": "",
         "showlegend": false,
         "type": "scatter",
         "x": [
          29,
          75,
          75,
          91,
          98,
          388,
          400,
          432,
          432,
          432,
          432,
          432,
          500,
          500,
          500,
          500,
          512,
          548,
          567,
          614,
          688,
          688,
          688,
          688,
          764,
          771,
          820,
          820,
          833,
          1003,
          1127,
          1204,
          1204,
          1232,
          1505,
          1505,
          1618,
          1774,
          1774,
          2321,
          2321,
          2321,
          2321,
          2353,
          2611,
          2611,
          2611,
          2611,
          3417,
          4121,
          4850,
          4927,
          5113,
          5548,
          6138,
          6312,
          7967,
          9068,
          9869,
          9869,
          9869,
          9869,
          11409,
          11637,
          11637,
          11637,
          11637,
          11637,
          11696,
          11696,
          11696,
          11696,
          12725,
          14184,
          14219,
          14301,
          15142,
          15995,
          16985,
          16985,
          16985,
          16985,
          16985,
          17307,
          18023,
          19064,
          19064,
          19064,
          19064,
          19064,
          19161,
          19161,
          21122,
          21122,
          22748,
          22748,
          22853,
          23497,
          24279,
          24279,
          24279,
          24279,
          25533,
          25533,
          25533,
          25533,
          28122,
          28122,
          30762,
          30762,
          32699,
          42496,
          50555,
          50555,
          52707,
          52707,
          84707,
          96979,
          96979,
          101336,
          135438,
          135438,
          137499,
          144948,
          204172,
          357033,
          357033,
          371050,
          511242,
          511242,
          533903,
          1706465
         ],
         "xaxis": "x",
         "y": [
          0.6986122625036635,
          0.698610299104732,
          0.698610299104732,
          0.6986096161833647,
          0.6986093174052664,
          0.6985969394554814,
          0.6985964272644559,
          0.698595061421721,
          0.698595061421721,
          0.698595061421721,
          0.698595061421721,
          0.698595061421721,
          0.6985921590059093,
          0.6985921590059093,
          0.6985921590059093,
          0.6985921590059093,
          0.6985916468148837,
          0.6985901102418071,
          0.6985892992726832,
          0.6985872931911663,
          0.6985841346798418,
          0.6985841346798418,
          0.6985841346798418,
          0.6985841346798418,
          0.6985808908033465,
          0.6985805920252482,
          0.6985785005785604,
          0.6985785005785604,
          0.6985779457049494,
          0.6985706896654202,
          0.6985653970248226,
          0.6985621104657418,
          0.6985621104657418,
          0.6985609153533487,
          0.6985492630075167,
          0.6985492630075167,
          0.6985444398753591,
          0.6985377813920265,
          0.6985377813920265,
          0.698514434017777,
          0.698514434017777,
          0.698514434017777,
          0.698514434017777,
          0.6985130681750421,
          0.6985020560679921,
          0.6985020560679921,
          0.6985020560679921,
          0.6985020560679921,
          0.698467653904107,
          0.6984376053639394,
          0.6984064897591352,
          0.6984032032000544,
          0.6983952642391579,
          0.6983766973144805,
          0.6983515145890559,
          0.6983440878191849,
          0.6982734481402398,
          0.6982264546136425,
          0.6981922658626848,
          0.6981922658626848,
          0.6981922658626848,
          0.6981922658626848,
          0.6981265346810682,
          0.6981168030515821,
          0.6981168030515821,
          0.6981168030515821,
          0.6981168030515821,
          0.6981168030515821,
          0.6981142847790397,
          0.6981142847790397,
          0.6981142847790397,
          0.6981142847790397,
          0.6980703643985958,
          0.698008090506402,
          0.6980065966159107,
          0.6980030966439026,
          0.6979672005895262,
          0.6979307923441243,
          0.6978885365845137,
          0.6978885365845137,
          0.6978885365845137,
          0.6978885365845137,
          0.6978885365845137,
          0.6978747927919938,
          0.6978442320608006,
          0.6977997994893312,
          0.6977997994893312,
          0.6977997994893312,
          0.6977997994893312,
          0.6977997994893312,
          0.6977956592785411,
          0.6977956592785411,
          0.6977119587284436,
          0.6977119587284436,
          0.6976425568444771,
          0.6976425568444771,
          0.6976380751730031,
          0.6976105875879635,
          0.6975772098061296,
          0.6975772098061296,
          0.6975772098061296,
          0.6975772098061296,
          0.6975236858439561,
          0.6975236858439561,
          0.6975236858439561,
          0.6975236858439561,
          0.6974131806301864,
          0.6974131806301864,
          0.697300498604558,
          0.697300498604558,
          0.6972178224365116,
          0.696799661146708,
          0.6964556821904431,
          0.6964556821904431,
          0.6963638292665216,
          0.6963638292665216,
          0.6949979865316316,
          0.6944741858428013,
          0.6944741858428013,
          0.6942882178179289,
          0.6928326562883907,
          0.6928326562883907,
          0.6927446874797467,
          0.6924267449006156,
          0.6898989114590178,
          0.6833744087622045,
          0.6833744087622045,
          0.6827761269617371,
          0.6767923699401838,
          0.6767923699401838,
          0.6758251398709543,
          0.6257771620925743
         ],
         "yaxis": "y"
        }
       ],
       "layout": {
        "legend": {
         "tracegroupgap": 0
        },
        "margin": {
         "t": 60
        },
        "template": {
         "data": {
          "bar": [
           {
            "error_x": {
             "color": "#2a3f5f"
            },
            "error_y": {
             "color": "#2a3f5f"
            },
            "marker": {
             "line": {
              "color": "#E5ECF6",
              "width": 0.5
             },
             "pattern": {
              "fillmode": "overlay",
              "size": 10,
              "solidity": 0.2
             }
            },
            "type": "bar"
           }
          ],
          "barpolar": [
           {
            "marker": {
             "line": {
              "color": "#E5ECF6",
              "width": 0.5
             },
             "pattern": {
              "fillmode": "overlay",
              "size": 10,
              "solidity": 0.2
             }
            },
            "type": "barpolar"
           }
          ],
          "carpet": [
           {
            "aaxis": {
             "endlinecolor": "#2a3f5f",
             "gridcolor": "white",
             "linecolor": "white",
             "minorgridcolor": "white",
             "startlinecolor": "#2a3f5f"
            },
            "baxis": {
             "endlinecolor": "#2a3f5f",
             "gridcolor": "white",
             "linecolor": "white",
             "minorgridcolor": "white",
             "startlinecolor": "#2a3f5f"
            },
            "type": "carpet"
           }
          ],
          "choropleth": [
           {
            "colorbar": {
             "outlinewidth": 0,
             "ticks": ""
            },
            "type": "choropleth"
           }
          ],
          "contour": [
           {
            "colorbar": {
             "outlinewidth": 0,
             "ticks": ""
            },
            "colorscale": [
             [
              0,
              "#0d0887"
             ],
             [
              0.1111111111111111,
              "#46039f"
             ],
             [
              0.2222222222222222,
              "#7201a8"
             ],
             [
              0.3333333333333333,
              "#9c179e"
             ],
             [
              0.4444444444444444,
              "#bd3786"
             ],
             [
              0.5555555555555556,
              "#d8576b"
             ],
             [
              0.6666666666666666,
              "#ed7953"
             ],
             [
              0.7777777777777778,
              "#fb9f3a"
             ],
             [
              0.8888888888888888,
              "#fdca26"
             ],
             [
              1,
              "#f0f921"
             ]
            ],
            "type": "contour"
           }
          ],
          "contourcarpet": [
           {
            "colorbar": {
             "outlinewidth": 0,
             "ticks": ""
            },
            "type": "contourcarpet"
           }
          ],
          "heatmap": [
           {
            "colorbar": {
             "outlinewidth": 0,
             "ticks": ""
            },
            "colorscale": [
             [
              0,
              "#0d0887"
             ],
             [
              0.1111111111111111,
              "#46039f"
             ],
             [
              0.2222222222222222,
              "#7201a8"
             ],
             [
              0.3333333333333333,
              "#9c179e"
             ],
             [
              0.4444444444444444,
              "#bd3786"
             ],
             [
              0.5555555555555556,
              "#d8576b"
             ],
             [
              0.6666666666666666,
              "#ed7953"
             ],
             [
              0.7777777777777778,
              "#fb9f3a"
             ],
             [
              0.8888888888888888,
              "#fdca26"
             ],
             [
              1,
              "#f0f921"
             ]
            ],
            "type": "heatmap"
           }
          ],
          "heatmapgl": [
           {
            "colorbar": {
             "outlinewidth": 0,
             "ticks": ""
            },
            "colorscale": [
             [
              0,
              "#0d0887"
             ],
             [
              0.1111111111111111,
              "#46039f"
             ],
             [
              0.2222222222222222,
              "#7201a8"
             ],
             [
              0.3333333333333333,
              "#9c179e"
             ],
             [
              0.4444444444444444,
              "#bd3786"
             ],
             [
              0.5555555555555556,
              "#d8576b"
             ],
             [
              0.6666666666666666,
              "#ed7953"
             ],
             [
              0.7777777777777778,
              "#fb9f3a"
             ],
             [
              0.8888888888888888,
              "#fdca26"
             ],
             [
              1,
              "#f0f921"
             ]
            ],
            "type": "heatmapgl"
           }
          ],
          "histogram": [
           {
            "marker": {
             "pattern": {
              "fillmode": "overlay",
              "size": 10,
              "solidity": 0.2
             }
            },
            "type": "histogram"
           }
          ],
          "histogram2d": [
           {
            "colorbar": {
             "outlinewidth": 0,
             "ticks": ""
            },
            "colorscale": [
             [
              0,
              "#0d0887"
             ],
             [
              0.1111111111111111,
              "#46039f"
             ],
             [
              0.2222222222222222,
              "#7201a8"
             ],
             [
              0.3333333333333333,
              "#9c179e"
             ],
             [
              0.4444444444444444,
              "#bd3786"
             ],
             [
              0.5555555555555556,
              "#d8576b"
             ],
             [
              0.6666666666666666,
              "#ed7953"
             ],
             [
              0.7777777777777778,
              "#fb9f3a"
             ],
             [
              0.8888888888888888,
              "#fdca26"
             ],
             [
              1,
              "#f0f921"
             ]
            ],
            "type": "histogram2d"
           }
          ],
          "histogram2dcontour": [
           {
            "colorbar": {
             "outlinewidth": 0,
             "ticks": ""
            },
            "colorscale": [
             [
              0,
              "#0d0887"
             ],
             [
              0.1111111111111111,
              "#46039f"
             ],
             [
              0.2222222222222222,
              "#7201a8"
             ],
             [
              0.3333333333333333,
              "#9c179e"
             ],
             [
              0.4444444444444444,
              "#bd3786"
             ],
             [
              0.5555555555555556,
              "#d8576b"
             ],
             [
              0.6666666666666666,
              "#ed7953"
             ],
             [
              0.7777777777777778,
              "#fb9f3a"
             ],
             [
              0.8888888888888888,
              "#fdca26"
             ],
             [
              1,
              "#f0f921"
             ]
            ],
            "type": "histogram2dcontour"
           }
          ],
          "mesh3d": [
           {
            "colorbar": {
             "outlinewidth": 0,
             "ticks": ""
            },
            "type": "mesh3d"
           }
          ],
          "parcoords": [
           {
            "line": {
             "colorbar": {
              "outlinewidth": 0,
              "ticks": ""
             }
            },
            "type": "parcoords"
           }
          ],
          "pie": [
           {
            "automargin": true,
            "type": "pie"
           }
          ],
          "scatter": [
           {
            "fillpattern": {
             "fillmode": "overlay",
             "size": 10,
             "solidity": 0.2
            },
            "type": "scatter"
           }
          ],
          "scatter3d": [
           {
            "line": {
             "colorbar": {
              "outlinewidth": 0,
              "ticks": ""
             }
            },
            "marker": {
             "colorbar": {
              "outlinewidth": 0,
              "ticks": ""
             }
            },
            "type": "scatter3d"
           }
          ],
          "scattercarpet": [
           {
            "marker": {
             "colorbar": {
              "outlinewidth": 0,
              "ticks": ""
             }
            },
            "type": "scattercarpet"
           }
          ],
          "scattergeo": [
           {
            "marker": {
             "colorbar": {
              "outlinewidth": 0,
              "ticks": ""
             }
            },
            "type": "scattergeo"
           }
          ],
          "scattergl": [
           {
            "marker": {
             "colorbar": {
              "outlinewidth": 0,
              "ticks": ""
             }
            },
            "type": "scattergl"
           }
          ],
          "scattermapbox": [
           {
            "marker": {
             "colorbar": {
              "outlinewidth": 0,
              "ticks": ""
             }
            },
            "type": "scattermapbox"
           }
          ],
          "scatterpolar": [
           {
            "marker": {
             "colorbar": {
              "outlinewidth": 0,
              "ticks": ""
             }
            },
            "type": "scatterpolar"
           }
          ],
          "scatterpolargl": [
           {
            "marker": {
             "colorbar": {
              "outlinewidth": 0,
              "ticks": ""
             }
            },
            "type": "scatterpolargl"
           }
          ],
          "scatterternary": [
           {
            "marker": {
             "colorbar": {
              "outlinewidth": 0,
              "ticks": ""
             }
            },
            "type": "scatterternary"
           }
          ],
          "surface": [
           {
            "colorbar": {
             "outlinewidth": 0,
             "ticks": ""
            },
            "colorscale": [
             [
              0,
              "#0d0887"
             ],
             [
              0.1111111111111111,
              "#46039f"
             ],
             [
              0.2222222222222222,
              "#7201a8"
             ],
             [
              0.3333333333333333,
              "#9c179e"
             ],
             [
              0.4444444444444444,
              "#bd3786"
             ],
             [
              0.5555555555555556,
              "#d8576b"
             ],
             [
              0.6666666666666666,
              "#ed7953"
             ],
             [
              0.7777777777777778,
              "#fb9f3a"
             ],
             [
              0.8888888888888888,
              "#fdca26"
             ],
             [
              1,
              "#f0f921"
             ]
            ],
            "type": "surface"
           }
          ],
          "table": [
           {
            "cells": {
             "fill": {
              "color": "#EBF0F8"
             },
             "line": {
              "color": "white"
             }
            },
            "header": {
             "fill": {
              "color": "#C8D4E3"
             },
             "line": {
              "color": "white"
             }
            },
            "type": "table"
           }
          ]
         },
         "layout": {
          "annotationdefaults": {
           "arrowcolor": "#2a3f5f",
           "arrowhead": 0,
           "arrowwidth": 1
          },
          "autotypenumbers": "strict",
          "coloraxis": {
           "colorbar": {
            "outlinewidth": 0,
            "ticks": ""
           }
          },
          "colorscale": {
           "diverging": [
            [
             0,
             "#8e0152"
            ],
            [
             0.1,
             "#c51b7d"
            ],
            [
             0.2,
             "#de77ae"
            ],
            [
             0.3,
             "#f1b6da"
            ],
            [
             0.4,
             "#fde0ef"
            ],
            [
             0.5,
             "#f7f7f7"
            ],
            [
             0.6,
             "#e6f5d0"
            ],
            [
             0.7,
             "#b8e186"
            ],
            [
             0.8,
             "#7fbc41"
            ],
            [
             0.9,
             "#4d9221"
            ],
            [
             1,
             "#276419"
            ]
           ],
           "sequential": [
            [
             0,
             "#0d0887"
            ],
            [
             0.1111111111111111,
             "#46039f"
            ],
            [
             0.2222222222222222,
             "#7201a8"
            ],
            [
             0.3333333333333333,
             "#9c179e"
            ],
            [
             0.4444444444444444,
             "#bd3786"
            ],
            [
             0.5555555555555556,
             "#d8576b"
            ],
            [
             0.6666666666666666,
             "#ed7953"
            ],
            [
             0.7777777777777778,
             "#fb9f3a"
            ],
            [
             0.8888888888888888,
             "#fdca26"
            ],
            [
             1,
             "#f0f921"
            ]
           ],
           "sequentialminus": [
            [
             0,
             "#0d0887"
            ],
            [
             0.1111111111111111,
             "#46039f"
            ],
            [
             0.2222222222222222,
             "#7201a8"
            ],
            [
             0.3333333333333333,
             "#9c179e"
            ],
            [
             0.4444444444444444,
             "#bd3786"
            ],
            [
             0.5555555555555556,
             "#d8576b"
            ],
            [
             0.6666666666666666,
             "#ed7953"
            ],
            [
             0.7777777777777778,
             "#fb9f3a"
            ],
            [
             0.8888888888888888,
             "#fdca26"
            ],
            [
             1,
             "#f0f921"
            ]
           ]
          },
          "colorway": [
           "#636efa",
           "#EF553B",
           "#00cc96",
           "#ab63fa",
           "#FFA15A",
           "#19d3f3",
           "#FF6692",
           "#B6E880",
           "#FF97FF",
           "#FECB52"
          ],
          "font": {
           "color": "#2a3f5f"
          },
          "geo": {
           "bgcolor": "white",
           "lakecolor": "white",
           "landcolor": "#E5ECF6",
           "showlakes": true,
           "showland": true,
           "subunitcolor": "white"
          },
          "hoverlabel": {
           "align": "left"
          },
          "hovermode": "closest",
          "mapbox": {
           "style": "light"
          },
          "paper_bgcolor": "white",
          "plot_bgcolor": "#E5ECF6",
          "polar": {
           "angularaxis": {
            "gridcolor": "white",
            "linecolor": "white",
            "ticks": ""
           },
           "bgcolor": "#E5ECF6",
           "radialaxis": {
            "gridcolor": "white",
            "linecolor": "white",
            "ticks": ""
           }
          },
          "scene": {
           "xaxis": {
            "backgroundcolor": "#E5ECF6",
            "gridcolor": "white",
            "gridwidth": 2,
            "linecolor": "white",
            "showbackground": true,
            "ticks": "",
            "zerolinecolor": "white"
           },
           "yaxis": {
            "backgroundcolor": "#E5ECF6",
            "gridcolor": "white",
            "gridwidth": 2,
            "linecolor": "white",
            "showbackground": true,
            "ticks": "",
            "zerolinecolor": "white"
           },
           "zaxis": {
            "backgroundcolor": "#E5ECF6",
            "gridcolor": "white",
            "gridwidth": 2,
            "linecolor": "white",
            "showbackground": true,
            "ticks": "",
            "zerolinecolor": "white"
           }
          },
          "shapedefaults": {
           "line": {
            "color": "#2a3f5f"
           }
          },
          "ternary": {
           "aaxis": {
            "gridcolor": "white",
            "linecolor": "white",
            "ticks": ""
           },
           "baxis": {
            "gridcolor": "white",
            "linecolor": "white",
            "ticks": ""
           },
           "bgcolor": "#E5ECF6",
           "caxis": {
            "gridcolor": "white",
            "linecolor": "white",
            "ticks": ""
           }
          },
          "title": {
           "x": 0.05
          },
          "xaxis": {
           "automargin": true,
           "gridcolor": "white",
           "linecolor": "white",
           "ticks": "",
           "title": {
            "standoff": 15
           },
           "zerolinecolor": "white",
           "zerolinewidth": 2
          },
          "yaxis": {
           "automargin": true,
           "gridcolor": "white",
           "linecolor": "white",
           "ticks": "",
           "title": {
            "standoff": 15
           },
           "zerolinecolor": "white",
           "zerolinewidth": 2
          }
         }
        },
        "xaxis": {
         "anchor": "y",
         "domain": [
          0,
          1
         ],
         "title": {
          "text": "all_rank_list"
         }
        },
        "yaxis": {
         "anchor": "x",
         "domain": [
          0,
          1
         ],
         "title": {
          "text": "Hardcover Discount Ratio"
         }
        }
       }
      }
     },
     "metadata": {},
     "output_type": "display_data"
    }
   ],
   "source": [
    "fig = px.scatter(book_data_valid, x=\"all_rank_list\", y=\"Hardcover Discount Ratio\", trendline=\"ols\")\n",
    "fig.show()"
   ]
  },
  {
   "cell_type": "code",
   "execution_count": null,
   "metadata": {},
   "outputs": [],
   "source": []
  }
 ],
 "metadata": {
  "kernelspec": {
   "display_name": "base",
   "language": "python",
   "name": "python3"
  },
  "language_info": {
   "codemirror_mode": {
    "name": "ipython",
    "version": 3
   },
   "file_extension": ".py",
   "mimetype": "text/x-python",
   "name": "python",
   "nbconvert_exporter": "python",
   "pygments_lexer": "ipython3",
   "version": "3.10.9"
  }
 },
 "nbformat": 4,
 "nbformat_minor": 2
}
