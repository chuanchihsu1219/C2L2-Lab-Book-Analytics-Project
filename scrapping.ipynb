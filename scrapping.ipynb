{
 "cells": [
  {
   "cell_type": "code",
   "execution_count": 31,
   "metadata": {},
   "outputs": [],
   "source": [
    "from bs4 import BeautifulSoup\n",
    "import pandas as pd\n",
    "from selenium import webdriver\n",
    "from selenium.webdriver.common.by import By\n",
    "from time import sleep\n",
    "from selenium import webdriver\n",
    "from selenium.webdriver.chrome.options import Options\n",
    "from selenium.webdriver.chrome.service import Service\n",
    "from copy import deepcopy\n",
    "import pandas as pd"
   ]
  },
  {
   "cell_type": "markdown",
   "metadata": {},
   "source": [
    "# 搜尋書名\n",
    "\n",
    "取得書目 id\n"
   ]
  },
  {
   "cell_type": "code",
   "execution_count": 32,
   "metadata": {},
   "outputs": [],
   "source": [
    "def set_up_driver(headless=True):\n",
    "    chrome_options = Options()\n",
    "    chrome_options.add_argument(\"--window-size=1920,1080\")\n",
    "    if headless:\n",
    "        chrome_options.add_argument(\"--headless\")\n",
    "    chrome_options.add_argument(\"user-agent=Mozilla/5.0 (Windows NT 10.0; Win64; x64) AppleWebKit/537.36 (KHTML, like Gecko) Chrome/58.0.3029.110 Safari/537.36\")\n",
    "    return webdriver.Chrome(service=Service(\"chromedriver.exe\"), options=chrome_options)"
   ]
  },
  {
   "cell_type": "code",
   "execution_count": 33,
   "metadata": {},
   "outputs": [],
   "source": [
    "def construct_serach_result_link(book_name: str) -> str:\n",
    "    return f\"https://bookshop.org/search?keywords={book_name}\""
   ]
  },
  {
   "cell_type": "code",
   "execution_count": 34,
   "metadata": {},
   "outputs": [],
   "source": [
    "def get_soup_of_a_page(link: str) -> BeautifulSoup:\n",
    "    driver = set_up_driver()\n",
    "    driver.get(link)\n",
    "    sleep(1)\n",
    "    return BeautifulSoup(driver.page_source, \"html.parser\")"
   ]
  },
  {
   "cell_type": "code",
   "execution_count": 35,
   "metadata": {},
   "outputs": [],
   "source": [
    "def get_book_id(book_name: str) -> str:\n",
    "    soup_search_result = get_soup_of_a_page(construct_serach_result_link(book_name))\n",
    "    book_id = soup_search_result.find(\"div\", {\"class\": \"search-result-card\"}).find(\"a\").get(\"href\").split(\"/book/\")[1]\n",
    "    return book_id"
   ]
  },
  {
   "cell_type": "markdown",
   "metadata": {},
   "source": [
    "# 進入書籍頁面\n"
   ]
  },
  {
   "cell_type": "code",
   "execution_count": 36,
   "metadata": {},
   "outputs": [],
   "source": [
    "def construct_book_link(book_id: str) -> str:\n",
    "    return f\"https://bookshop.org/book/{book_id}\""
   ]
  },
  {
   "cell_type": "code",
   "execution_count": 37,
   "metadata": {},
   "outputs": [],
   "source": [
    "def extract_book_info(soup_book: BeautifulSoup) -> dict:\n",
    "    book_name_correct: str = soup_book.find(\"h1\", itemprop=\"name\").text  # 找到 <h1> 標籤且 itemprop 屬性為 'name'\n",
    "    book_author = soup_book.find(\"div\", {\"class\": \"font-sans-medium text-gray text-sm\"}).find(\"span\", {\"itemprop\": \"name\"}).text.strip()\n",
    "    book_info_of_the_option = {\"Name\": book_name_correct, \"Author\": book_author}\n",
    "    book_info_of_the_option[\"Publisher\"] = soup_book.find(\"div\", itemprop=\"publisher\").text.strip()\n",
    "    book_info_of_the_option[\"Publish Date\"] = soup_book.find(\"div\", itemprop=\"datePublished\").text.strip()\n",
    "    book_info_of_the_option[\"Pages\"] = int(soup_book.find(\"div\", itemprop=\"numberOfPages\").text.strip())\n",
    "    book_info_of_the_option[\"Dimensions\"] = soup_book.find(\"div\", itemprop=\"size\").text.strip()\n",
    "    book_info_of_the_option[\"Language\"] = soup_book.find(\"div\", itemprop=\"inLanguage\").text.strip()\n",
    "    book_info_of_the_option[\"bookFormat\"] = soup_book.find(\"div\", itemprop=\"bookFormat\").text.strip()\n",
    "    book_info_of_the_option[\"ISBN\"] = soup_book.find(\"div\", itemprop=\"isbn\").text.strip()\n",
    "    book_info_of_the_option[\"Sale_Price\"] = float(soup_book.find(\"meta\", itemprop=\"price\")[\"content\"])\n",
    "    book_info_of_the_option[\"Regular_Price\"] = book_info_of_the_option[\"Sale_Price\"]\n",
    "    regular_price_tag = soup_book.find(\"span\", class_=\"line-through text-primary\")\n",
    "    if regular_price_tag:\n",
    "        book_info_of_the_option[\"Regular_Price\"] = float(regular_price_tag.text.strip()[1:])\n",
    "    return book_info_of_the_option"
   ]
  },
  {
   "cell_type": "code",
   "execution_count": 38,
   "metadata": {},
   "outputs": [],
   "source": [
    "def extract_other_formats_links(soup_book_first_format: BeautifulSoup) -> dict:\n",
    "    a_tags = soup_book_first_format.find_all(\"a\", class_=\"flex flex-wrap rounded p-4 border border-border\")\n",
    "    other_formats_links = {}\n",
    "    for a_tag in a_tags:\n",
    "        href = a_tag.get(\"href\")\n",
    "        format_name = a_tag.find(\"div\", class_=\"text-lg w-full truncate\").text.strip()\n",
    "        other_formats_links[format_name] = f\"https://bookshop.org/{href}\"\n",
    "    return other_formats_links"
   ]
  },
  {
   "cell_type": "code",
   "execution_count": 39,
   "metadata": {},
   "outputs": [],
   "source": [
    "def get_book_complete_information(target_name: str) -> dict:\n",
    "    book_id = get_book_id(target_name)\n",
    "    soup_book_first_format = get_soup_of_a_page(construct_book_link(book_id))\n",
    "    book_info_of_first_format = extract_book_info(soup_book_first_format)\n",
    "    other_formats_links = extract_other_formats_links(soup_book_first_format)\n",
    "    book_complete_infomation = {book_info_of_first_format[\"bookFormat\"]: deepcopy(book_info_of_first_format)}\n",
    "    for format_name, link in other_formats_links.items():\n",
    "        soup_format = get_soup_of_a_page(link)\n",
    "        book_info_of_the_format = extract_book_info(soup_format)\n",
    "        book_complete_infomation[format_name] = deepcopy(book_info_of_the_format)\n",
    "    return book_complete_infomation"
   ]
  },
  {
   "cell_type": "code",
   "execution_count": 41,
   "metadata": {},
   "outputs": [
    {
     "name": "stdout",
     "output_type": "stream",
     "text": [
      "{'Name': 'Caste: The Origins of Our Discontents', 'Author': 'Isabel Wilkerson', 'Publisher': 'Random House Trade', 'Publish Date': 'February 14, 2023', 'Pages': 544, 'Dimensions': '5.1 X 7.9 X 1.2 inches | 0.95 pounds', 'Language': 'English', 'bookFormat': 'Paperback', 'ISBN': '9780593230275', 'Sale_Price': 19.53, 'Regular_Price': 21.0}\n",
      "                                           Paperback  \\\n",
      "Name           Caste: The Origins of Our Discontents   \n",
      "Author                              Isabel Wilkerson   \n",
      "Publisher                         Random House Trade   \n",
      "Publish Date                       February 14, 2023   \n",
      "Pages                                            544   \n",
      "Dimensions      5.1 X 7.9 X 1.2 inches | 0.95 pounds   \n",
      "Language                                     English   \n",
      "bookFormat                                 Paperback   \n",
      "ISBN                                   9780593230275   \n",
      "Sale_Price                                     19.53   \n",
      "Regular_Price                                   21.0   \n",
      "\n",
      "                                           Hardcover  \\\n",
      "Name           Caste: The Origins of Our Discontents   \n",
      "Author                              Isabel Wilkerson   \n",
      "Publisher                               Random House   \n",
      "Publish Date                         August 04, 2020   \n",
      "Pages                                            544   \n",
      "Dimensions      6.4 X 9.3 X 1.7 inches | 1.75 pounds   \n",
      "Language                                     English   \n",
      "bookFormat                                 Hardcover   \n",
      "ISBN                                   9780593230251   \n",
      "Sale_Price                                     29.76   \n",
      "Regular_Price                                   32.0   \n",
      "\n",
      "                                     Library Binding  \n",
      "Name           Caste: The Origins of Our Discontents  \n",
      "Author                              Isabel Wilkerson  \n",
      "Publisher                Thorndike Press Large Print  \n",
      "Publish Date                        January 20, 2021  \n",
      "Pages                                            678  \n",
      "Dimensions       5.7 X 8.4 X 1.3 inches | 1.8 pounds  \n",
      "Language                                     English  \n",
      "bookFormat                           Library Binding  \n",
      "ISBN                                   9781432885168  \n",
      "Sale_Price                                     40.24  \n",
      "Regular_Price                                  40.24  \n"
     ]
    }
   ],
   "source": [
    "if __name__ == \"__main__\":\n",
    "    target_book_name = \"Caste: The Origins of Our Discontents\"\n",
    "    book_complete_infomation = get_book_complete_information(target_book_name)\n",
    "    print(pd.DataFrame(book_complete_infomation))"
   ]
  }
 ],
 "metadata": {
  "kernelspec": {
   "display_name": "base",
   "language": "python",
   "name": "python3"
  },
  "language_info": {
   "codemirror_mode": {
    "name": "ipython",
    "version": 3
   },
   "file_extension": ".py",
   "mimetype": "text/x-python",
   "name": "python",
   "nbconvert_exporter": "python",
   "pygments_lexer": "ipython3",
   "version": "3.8.0"
  }
 },
 "nbformat": 4,
 "nbformat_minor": 2
}
