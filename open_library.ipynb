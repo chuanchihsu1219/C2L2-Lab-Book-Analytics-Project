{
 "cells": [
  {
   "cell_type": "code",
   "execution_count": 1,
   "metadata": {},
   "outputs": [],
   "source": [
    "import requests\n",
    "import pandas as pd\n",
    "import json\n",
    "from IPython.display import clear_output\n",
    "from tqdm.auto import tqdm\n",
    "from time import sleep"
   ]
  },
  {
   "cell_type": "code",
   "execution_count": null,
   "metadata": {},
   "outputs": [
    {
     "name": "stderr",
     "output_type": "stream",
     "text": [
      "  0%|          | 0/1262 [00:00<?, ?it/s]"
     ]
    },
    {
     "name": "stderr",
     "output_type": "stream",
     "text": [
      "100%|█████████▉| 1260/1262 [1:16:52<00:07,  3.66s/it]"
     ]
    },
    {
     "name": "stdout",
     "output_type": "stream",
     "text": [
      "No more data\n"
     ]
    },
    {
     "name": "stderr",
     "output_type": "stream",
     "text": [
      "\n"
     ]
    }
   ],
   "source": [
    "publisher_name = \"HarperCollins\"\n",
    "page = 1\n",
    "\n",
    "\n",
    "def construct_publisher_api(publisher_name: str, page: int):\n",
    "    return f\"https://openlibrary.org/search.json?publisher={publisher_name}&sort=new&page={page}\"\n",
    "\n",
    "\n",
    "books_data_original = []\n",
    "for page in tqdm(range(1, 1263)):\n",
    "    # while True:\n",
    "    # clear_output(wait=True)\n",
    "    # print(f\"{page=}\")\n",
    "    while True:\n",
    "        try:\n",
    "            api_link = construct_publisher_api(publisher_name, page)\n",
    "            response = requests.get(api_link)\n",
    "            if response.status_code == 200 and response.headers.get(\"content-type\") == \"application/json\":\n",
    "                break\n",
    "        except:\n",
    "            print(f\"Invalid response from API at page {page}.\")\n",
    "            sleep(2)\n",
    "    book_data_in_response = response.json()[\"docs\"]\n",
    "    if book_data_in_response == []:\n",
    "        print(\"No more data\")\n",
    "        break\n",
    "    books_data_original.extend(book_data_in_response)\n",
    "    # page += 1\n",
    "\n",
    "with open(\"books_data_original.json\", \"w\") as file:\n",
    "    file.write(json.dumps(books_data_original))"
   ]
  },
  {
   "cell_type": "code",
   "execution_count": 3,
   "metadata": {},
   "outputs": [
    {
     "name": "stderr",
     "output_type": "stream",
     "text": [
      "  0%|          | 0/1262 [00:00<?, ?it/s]"
     ]
    },
    {
     "name": "stderr",
     "output_type": "stream",
     "text": [
      "100%|█████████▉| 1260/1262 [1:16:52<00:07,  3.66s/it]"
     ]
    },
    {
     "name": "stdout",
     "output_type": "stream",
     "text": [
      "No more data\n"
     ]
    },
    {
     "name": "stderr",
     "output_type": "stream",
     "text": [
      "\n"
     ]
    }
   ],
   "source": [
    "publisher_names:list = [\n",
    "    \"HarperCollins\",\n",
    "\"Little, Brown and Company\",\n",
    "\"Tor Books\",\n",
    "\"Disney Hyperion Books (Disney Publishing Group)\",\n",
    "Oxford World's Classics\n",
    "Doubleday (Knopf Doubleday Publishing Group)\n",
    "BLOOMSBURY PUBLISHING]\n",
    "page = 1\n",
    "\n",
    "\n",
    "def construct_publisher_api(publisher_name: str, page: int):\n",
    "    return f\"https://openlibrary.org/search.json?publisher={publisher_name}&sort=new&page={page}\"\n",
    "\n",
    "\n",
    "books_data_original = []\n",
    "for page in tqdm(range(1, 1263)):\n",
    "    # while True:\n",
    "    # clear_output(wait=True)\n",
    "    # print(f\"{page=}\")\n",
    "    while True:\n",
    "        try:\n",
    "            api_link = construct_publisher_api(publisher_name, page)\n",
    "            response = requests.get(api_link)\n",
    "            if response.status_code == 200 and response.headers.get(\"content-type\") == \"application/json\":\n",
    "                break\n",
    "        except:\n",
    "            print(f\"Invalid response from API at page {page}.\")\n",
    "            sleep(2)\n",
    "    book_data_in_response = response.json()[\"docs\"]\n",
    "    if book_data_in_response == []:\n",
    "        print(\"No more data\")\n",
    "        break\n",
    "    books_data_original.extend(book_data_in_response)\n",
    "    # page += 1\n",
    "\n",
    "with open(\"books_data_original.json\", \"w\") as file:\n",
    "    file.write(json.dumps(books_data_original))"
   ]
  },
  {
   "cell_type": "code",
   "execution_count": null,
   "metadata": {},
   "outputs": [],
   "source": [
    "books_data_original"
   ]
  },
  {
   "cell_type": "code",
   "execution_count": null,
   "metadata": {},
   "outputs": [],
   "source": [
    "from dateutil.parser import parse\n",
    "import json\n",
    "\n",
    "# Load the JSON data\n",
    "with open(\"openlib-single.json\") as f:\n",
    "    data = json.load(f)\n",
    "\n",
    "# Extract the publish_date list\n",
    "publish_dates = data[\"publish_date\"]\n",
    "\n",
    "\n",
    "# Function to parse dates and handle exceptions\n",
    "def parse_date(date_str):\n",
    "    try:\n",
    "        return parse(date_str, default=None)\n",
    "    except ValueError:\n",
    "        return None\n",
    "\n",
    "\n",
    "# Convert the dates to date objects and sort them\n",
    "publish_dates = sorted(filter(None, map(parse_date, publish_dates)))\n",
    "\n",
    "# Find the latest complete date\n",
    "latest_date = next((date for date in reversed(publish_dates) if date.day != 1), None)\n",
    "\n",
    "# Prepare the data to be saved\n",
    "output_data = {\"latest_complete_date\": latest_date.strftime(\"%Y-%m-%d\") if latest_date else \"缺值\"}\n",
    "\n",
    "# Save the data to a new JSON file\n",
    "with open(\"latest_date.json\", \"w\") as f:\n",
    "    json.dump(output_data, f)"
   ]
  },
  {
   "cell_type": "code",
   "execution_count": 3,
   "metadata": {},
   "outputs": [
    {
     "name": "stdout",
     "output_type": "stream",
     "text": [
      "['author_alternative_name', 'author_name', 'ddc', 'ebook_access', 'ebook_count_i', 'edition_count', 'first_publish_year', 'isbn', 'key', 'language', 'number_of_pages_median', 'publish_date', 'publish_year', 'publisher', 'seed', 'title', 'type', 'subject', 'ratings_average', 'ratings_count', 'ratings_count_1', 'ratings_count_2', 'ratings_count_3', 'ratings_count_4', 'ratings_count_5', 'lcc_sort', 'subject_key', 'ddc_sort']\n"
     ]
    }
   ],
   "source": [
    "import json\n",
    "\n",
    "# 假設你的JSON數據存儲在一個名為'data.json'的文件中\n",
    "with open(\"openlib-single.json\", \"r\", encoding=\"utf-8\") as f:\n",
    "    data = json.load(f)\n",
    "\n",
    "# 使用list comprehension從字典中提取所有的鍵名\n",
    "keys = [k for k in data.keys()]\n",
    "\n",
    "print(keys)"
   ]
  },
  {
   "cell_type": "code",
   "execution_count": 6,
   "metadata": {},
   "outputs": [],
   "source": [
    "import json\n",
    "\n",
    "# 指定要保留的鍵名列表\n",
    "keys_to_keep = keys\n",
    "\n",
    "# 讀取原始JSON數據\n",
    "with open(\"books_data_original.json\", \"r\") as f:\n",
    "    data = json.load(f)\n",
    "\n",
    "# 過濾字典對象,只保留指定鍵名的鍵值對\n",
    "filtered_data = []\n",
    "for item in data:\n",
    "    filtered_item = {k: v for k, v in item.items() if k in keys_to_keep}\n",
    "    filtered_data.append(filtered_item)\n",
    "\n",
    "# 將過濾後的數據保存到新的JSON文件\n",
    "with open(\"books_data_selected_columns.json\", \"w\") as f:\n",
    "    json.dump(filtered_data, f, indent=2)"
   ]
  },
  {
   "cell_type": "code",
   "execution_count": 8,
   "metadata": {},
   "outputs": [],
   "source": [
    "import json\n",
    "import csv\n",
    "import csv\n",
    "\n",
    "# 讀取JSON數據\n",
    "with open(\"books_data_selected_columns.json\", \"r\") as f:\n",
    "    data = json.load(f)\n",
    "\n",
    "# 獲取所有對象中的鍵名集合,並在首位插入\"title\"\n",
    "# 將JSON數據寫入CSV文件\n",
    "with open(\"books_data.csv\", \"w\", newline=\"\", encoding=\"utf-8\") as csvfile:\n",
    "    writer = csv.writer(csvfile)\n",
    "\n",
    "    # 寫入欄位標題\n",
    "    writer.writerow(all_keys)\n",
    "\n",
    "    # 遍歷JSON數據,按照欄位標題的順序寫入每個對象的值\n",
    "    for item in data:\n",
    "        row = [item.get(key, \"\") for key in all_keys]\n",
    "        writer.writerow(row)"
   ]
  }
 ],
 "metadata": {
  "kernelspec": {
   "display_name": "Python 3",
   "language": "python",
   "name": "python3"
  },
  "language_info": {
   "codemirror_mode": {
    "name": "ipython",
    "version": 3
   },
   "file_extension": ".py",
   "mimetype": "text/x-python",
   "name": "python",
   "nbconvert_exporter": "python",
   "pygments_lexer": "ipython3",
   "version": "3.8.0"
  }
 },
 "nbformat": 4,
 "nbformat_minor": 2
}
